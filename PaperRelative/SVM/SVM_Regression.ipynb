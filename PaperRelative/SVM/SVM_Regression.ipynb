{
 "cells": [
  {
   "cell_type": "code",
   "execution_count": 2,
   "outputs": [],
   "source": [
    "#运行次数\n",
    "e_count = 4"
   ],
   "metadata": {
    "collapsed": false,
    "pycharm": {
     "name": "#%%\n"
    }
   }
  },
  {
   "cell_type": "code",
   "execution_count": 3,
   "outputs": [],
   "source": [
    "import numpy as np\n",
    "import matplotlib.pyplot as plt\n",
    "import pandas as pd\n",
    "from sklearn import preprocessing\n",
    "from sklearn.metrics import mean_squared_error\n",
    "from math import sqrt\n",
    "#倒入一些必要的库"
   ],
   "metadata": {
    "collapsed": false,
    "pycharm": {
     "name": "#%%\n"
    }
   }
  },
  {
   "cell_type": "code",
   "execution_count": 21,
   "metadata": {
    "scrolled": true,
    "pycharm": {
     "name": "#%%\n"
    }
   },
   "outputs": [],
   "source": [
    "#feanum=17#一共有多少特征\n",
    "window=240#时间窗设置\n",
    "#df1=pd.read_csv('../Resource/Bloomsbury.csv') #读取数据\n",
    "#df1=pd.read_csv('../Resource/FLUXNET2015/FLX_AU-TTE_FLUXNET2015_FULLSET_DD_2012-2014_1-3.csv') #读取数据 这个在测试集上表现较差\n",
    "#df1=pd.read_csv('../Resource/FLUXNET2015/FLX_CA-TPD_FLUXNET2015_FULLSET_DD_2012-2014_1-3.csv') #读取数据\n",
    "#df1=pd.read_csv('../Resource/FLUXNET2015/FLX_JP-MBF_FLUXNET2015_SUBSET_HH_2003-2005_1-4_clean.csv') #读取数据\n",
    "#df1=pd.read_excel('../Resource/ExperimentDataBase/CV1(1).xlsx')\n",
    "#df1 = pd.read_csv('../Resource/InformerData/ETTh1.csv')\n",
    "df1 = pd.read_csv('../Resource/FLUXNET2015/FLX_AR_Vir_FULLSET_HH_SMALL.csv')\n",
    "# df1 = pd.read_csv('../Resource/FLUXNET2015/FLX_RU-Sam_FULLSET_HH_2002-2014_Small.csv')\n",
    "l=len(df1)\n",
    "df1=df1.iloc[:,2:]#删除前1列没用的\n",
    "#删除包含NaN值的行\n",
    "\n",
    "# SW_IN_F :短波辐射，来自SW_IN_F_MDS和SW_IN_ERA的综合入射（负值设为零）。\n",
    "#TA_F:空气温度，由TA_F_MDS和TA_ERA合并而成\n",
    "# WS_F:风速，由WS和WS_ERA合并而成\n",
    "#RH:相对湿度，范围0-100"
   ]
  },
  {
   "cell_type": "code",
   "execution_count": 22,
   "outputs": [
    {
     "data": {
      "text/plain": "      Band1     Band2     Band3     Band4     Band5     Band6      NDVI  \\\n0  0.083412  0.345655  0.243265  0.565888  0.813008  0.836228  0.549298   \n1  0.082306  0.334855  0.233126  0.564455  0.826484  0.853446  0.570896   \n2  0.099105  0.341901  0.236444  0.585408  0.831515  0.857189  0.567599   \n3  0.057625  0.291467  0.209741  0.477119  0.725294  0.753790  0.564641   \n4  0.066446  0.407935  0.304616  0.614765  0.886840  0.918534  0.501916   \n\n      GNDVI      SAVI       EVI  ...      LCI2      VDVI      SIPI      MNVI  \\\n0  0.415077  0.563120  0.612549  ... -0.021510  0.358190  0.818599  1.352532   \n1  0.436414  0.586472  0.642699  ... -0.024814  0.359621  0.824086  1.305132   \n2  0.429733  0.584273  0.640034  ... -0.023476  0.341642  0.792731  1.289980   \n3  0.442306  0.557606  0.602579  ... -0.029575  0.371125  0.857964  1.680596   \n4  0.384931  0.534415  0.579253  ... -0.025912  0.374754  0.865082  1.052248   \n\n        CVI      MTVI     MSAVI     EVI.1      ARVI       SPAD  \n0  1.702624  0.148928 -0.212422  0.555161  0.349467  40.933333  \n1  1.774407  0.152974 -0.184314  0.588560  0.379427  46.100000  \n2  1.733821  0.153565 -0.192614  0.612763  0.392703  43.566667  \n3  1.861037  0.140766 -0.137456  0.527169  0.351306  46.366667  \n4  1.681381  0.146258 -0.352796  0.472552  0.257129  44.033333  \n\n[5 rows x 32 columns]",
      "text/html": "<div>\n<style scoped>\n    .dataframe tbody tr th:only-of-type {\n        vertical-align: middle;\n    }\n\n    .dataframe tbody tr th {\n        vertical-align: top;\n    }\n\n    .dataframe thead th {\n        text-align: right;\n    }\n</style>\n<table border=\"1\" class=\"dataframe\">\n  <thead>\n    <tr style=\"text-align: right;\">\n      <th></th>\n      <th>Band1</th>\n      <th>Band2</th>\n      <th>Band3</th>\n      <th>Band4</th>\n      <th>Band5</th>\n      <th>Band6</th>\n      <th>NDVI</th>\n      <th>GNDVI</th>\n      <th>SAVI</th>\n      <th>EVI</th>\n      <th>...</th>\n      <th>LCI2</th>\n      <th>VDVI</th>\n      <th>SIPI</th>\n      <th>MNVI</th>\n      <th>CVI</th>\n      <th>MTVI</th>\n      <th>MSAVI</th>\n      <th>EVI.1</th>\n      <th>ARVI</th>\n      <th>SPAD</th>\n    </tr>\n  </thead>\n  <tbody>\n    <tr>\n      <th>0</th>\n      <td>0.083412</td>\n      <td>0.345655</td>\n      <td>0.243265</td>\n      <td>0.565888</td>\n      <td>0.813008</td>\n      <td>0.836228</td>\n      <td>0.549298</td>\n      <td>0.415077</td>\n      <td>0.563120</td>\n      <td>0.612549</td>\n      <td>...</td>\n      <td>-0.021510</td>\n      <td>0.358190</td>\n      <td>0.818599</td>\n      <td>1.352532</td>\n      <td>1.702624</td>\n      <td>0.148928</td>\n      <td>-0.212422</td>\n      <td>0.555161</td>\n      <td>0.349467</td>\n      <td>40.933333</td>\n    </tr>\n    <tr>\n      <th>1</th>\n      <td>0.082306</td>\n      <td>0.334855</td>\n      <td>0.233126</td>\n      <td>0.564455</td>\n      <td>0.826484</td>\n      <td>0.853446</td>\n      <td>0.570896</td>\n      <td>0.436414</td>\n      <td>0.586472</td>\n      <td>0.642699</td>\n      <td>...</td>\n      <td>-0.024814</td>\n      <td>0.359621</td>\n      <td>0.824086</td>\n      <td>1.305132</td>\n      <td>1.774407</td>\n      <td>0.152974</td>\n      <td>-0.184314</td>\n      <td>0.588560</td>\n      <td>0.379427</td>\n      <td>46.100000</td>\n    </tr>\n    <tr>\n      <th>2</th>\n      <td>0.099105</td>\n      <td>0.341901</td>\n      <td>0.236444</td>\n      <td>0.585408</td>\n      <td>0.831515</td>\n      <td>0.857189</td>\n      <td>0.567599</td>\n      <td>0.429733</td>\n      <td>0.584273</td>\n      <td>0.640034</td>\n      <td>...</td>\n      <td>-0.023476</td>\n      <td>0.341642</td>\n      <td>0.792731</td>\n      <td>1.289980</td>\n      <td>1.733821</td>\n      <td>0.153565</td>\n      <td>-0.192614</td>\n      <td>0.612763</td>\n      <td>0.392703</td>\n      <td>43.566667</td>\n    </tr>\n    <tr>\n      <th>3</th>\n      <td>0.057625</td>\n      <td>0.291467</td>\n      <td>0.209741</td>\n      <td>0.477119</td>\n      <td>0.725294</td>\n      <td>0.753790</td>\n      <td>0.564641</td>\n      <td>0.442306</td>\n      <td>0.557606</td>\n      <td>0.602579</td>\n      <td>...</td>\n      <td>-0.029575</td>\n      <td>0.371125</td>\n      <td>0.857964</td>\n      <td>1.680596</td>\n      <td>1.861037</td>\n      <td>0.140766</td>\n      <td>-0.137456</td>\n      <td>0.527169</td>\n      <td>0.351306</td>\n      <td>46.366667</td>\n    </tr>\n    <tr>\n      <th>4</th>\n      <td>0.066446</td>\n      <td>0.407935</td>\n      <td>0.304616</td>\n      <td>0.614765</td>\n      <td>0.886840</td>\n      <td>0.918534</td>\n      <td>0.501916</td>\n      <td>0.384931</td>\n      <td>0.534415</td>\n      <td>0.579253</td>\n      <td>...</td>\n      <td>-0.025912</td>\n      <td>0.374754</td>\n      <td>0.865082</td>\n      <td>1.052248</td>\n      <td>1.681381</td>\n      <td>0.146258</td>\n      <td>-0.352796</td>\n      <td>0.472552</td>\n      <td>0.257129</td>\n      <td>44.033333</td>\n    </tr>\n  </tbody>\n</table>\n<p>5 rows × 32 columns</p>\n</div>"
     },
     "execution_count": 22,
     "metadata": {},
     "output_type": "execute_result"
    }
   ],
   "source": [
    "df1.head()"
   ],
   "metadata": {
    "collapsed": false,
    "pycharm": {
     "name": "#%%\n"
    }
   }
  },
  {
   "cell_type": "code",
   "execution_count": 26,
   "outputs": [],
   "source": [
    "# 删除包含NaN值的列：df.dropna(axis=1)\n",
    "# 仅删除所有值都为NaN的行：df.dropna(how='all')\n",
    "# 仅删除指定列中包含NaN值的行：df.dropna(subset=['column1', 'column2'])"
   ],
   "metadata": {
    "collapsed": false,
    "pycharm": {
     "name": "#%%\n"
    }
   }
  },
  {
   "cell_type": "code",
   "execution_count": 27,
   "outputs": [],
   "source": [
    "#print(len(df1.iloc[0]))"
   ],
   "metadata": {
    "collapsed": false,
    "pycharm": {
     "name": "#%%\n"
    }
   }
  },
  {
   "cell_type": "code",
   "execution_count": 28,
   "outputs": [],
   "source": [
    "#print(df1.iloc[:,-1])\n",
    "#print(df1.iloc[1:10,1])"
   ],
   "metadata": {
    "collapsed": false,
    "pycharm": {
     "name": "#%%\n"
    }
   }
  },
  {
   "cell_type": "markdown",
   "source": [
    "## 数据降维"
   ],
   "metadata": {
    "collapsed": false,
    "pycharm": {
     "name": "#%% md\n"
    }
   }
  },
  {
   "cell_type": "code",
   "execution_count": 29,
   "outputs": [],
   "source": [
    "# PCA降维\n",
    "#from sklearn.decomposition import PCA\n",
    "#pca = PCA(n_components=4) # 指定降维后的维度为2\n",
    "#X_new = pca.fit_transform(df1) # X为原始数据，X_new为降维后的数据\n",
    "# # LDA降维\n",
    "# from sklearn.discriminant_analysis import LinearDiscriminantAnalysis as LDA\n",
    "# lda = LDA(n_components=2) # 指定降维后的维度为2\n",
    "# X_new = lda.fit_transform(X, y) # X为原始数据，y为标签，X_new为降维后的数据"
   ],
   "metadata": {
    "collapsed": false,
    "pycharm": {
     "name": "#%%\n"
    }
   }
  },
  {
   "cell_type": "code",
   "execution_count": 30,
   "metadata": {
    "pycharm": {
     "name": "#%%\n"
    }
   },
   "outputs": [],
   "source": [
    "from sklearn import preprocessing#进行归一化操作\n",
    "#默认参数\n",
    "min_max_scaler = preprocessing.MinMaxScaler(feature_range=(0, 1))\n",
    "df0=min_max_scaler.fit_transform(df1)\n",
    "df = pd.DataFrame(df0,columns=df1.columns)\n",
    "dfs = df.to_numpy()\n",
    "#print(\"dfs:\",dfs[300:330])"
   ]
  },
  {
   "cell_type": "code",
   "execution_count": 31,
   "outputs": [
    {
     "name": "stdout",
     "output_type": "stream",
     "text": [
      "36\n",
      "6\n"
     ]
    }
   ],
   "source": [
    "# 测试集为总体数据的1/8\n",
    "print(len(dfs))\n",
    "cut_number = int(len(dfs) / 8)\n",
    "print(cut_number)"
   ],
   "metadata": {
    "collapsed": false,
    "pycharm": {
     "name": "#%%\n"
    }
   }
  },
  {
   "cell_type": "markdown",
   "source": [
    "# 这里y_train = train[:, -1][:,1] , 其中把每一层数据中的第第二例数据（[:,1]）作为y进行训练，也就是可以进行对第二列数据进行预测"
   ],
   "metadata": {
    "collapsed": false,
    "pycharm": {
     "name": "#%% md\n"
    }
   }
  },
  {
   "cell_type": "code",
   "execution_count": 32,
   "metadata": {
    "pycharm": {
     "name": "#%%\n"
    }
   },
   "outputs": [
    {
     "name": "stdout",
     "output_type": "stream",
     "text": [
      "data_len: 36\n"
     ]
    }
   ],
   "source": [
    "#这一部分在处理数据 将原始数据改造为模型需要的输入\n",
    "stock=df\n",
    "seq_len=window\n",
    "amount_of_features = len(stock.columns)#有几列\n",
    "data = stock.to_numpy() #pd.DataFrame(stock) 表格转化为矩阵\n",
    "print(\"data_len:\",len(data))\n",
    "sequence_length = seq_len + 1#序列长度+1 加1作为标签？\n",
    "result = []\n",
    "for index in range(len(data) - sequence_length):#循环 数据长度-时间窗长度 次 17520-5\n",
    "    #print(\"index\",index) index = 0...range(len(data)-sequence_length)\n",
    "    result.append(data[index: index + sequence_length])#第i行到i+5 ,[0:6],[1:7],[2:8] -> data={[0:5],[1:6],[2:7]...[17514:17514+5]} ->分为序列数据(5行作为一个序列=4个小时为基础单位-作为训练)\n",
    "result = np.array(result)#得到样本，样本形式为 window*feanum\n",
    "#print(result) #每行是基础数据的前六行数据,\n",
    "#print(\"2\",result[1:3]) #每行是基础数据的前六行数据,\n",
    "#test21 = []\n",
    "#test21 =  result[1:6]\n",
    "#print(\"rest[1:3]:\",test21)\n",
    "# print(\"test21[:,-1]:\",test21[:,-1])#取所有层的每层中的最后一行数据\n",
    "#print(\"test21[:,-1][:,-1]:\",test21[:,-1][:,1])#取所有层的每层中的最后一行数据中的最后一列数据\n",
    "# print(\"test21[:,:-1]:\",test21[:,:-1])#除了每层中的最后一行都取\n",
    "\n",
    "# test31 = result[1:3][:,-1] # 这句代码的意思是：取三维数组的第一块数据到第四块数据(在三维中可以理解成前两层),[:4]为:取前两层的数据中的每块（层）中的最后一行数据\n",
    "# #如果等于[1:3][:-1] :取前两层中的每层中的最后一行数据\n",
    "# print(\"test31\",test31)\n",
    "cut=cut_number#分训练集测试集 最后cut个样本为测试集\n",
    "train = result[:-cut, :] # 训练集为第零行到倒数第cut=150行,默认取所有列\n",
    "x_train = train[:, :-1] #除了每层中的最后一行都取\n",
    "y_train = train[:, -1][:,1] #取所有层的每层中的最后一行数据中的最后一列数据(当等于-1的时候)\n",
    "x_test = result[-cut:, :-1]\n",
    "y_test = result[-cut:, -1][:,1]\n",
    "X_train = np.reshape(x_train, (x_train.shape[0], x_train.shape[1], amount_of_features))\n",
    "# print(\"X_train.shape[0]:\",x_train.shape[0])\n",
    "# print(\"X_train.shape[1]:\",x_train.shape[1])\n",
    "X_test = np.reshape(x_test, (x_test.shape[0], x_test.shape[1], amount_of_features))\n",
    "# print(\"X_test.shape[0]:\",x_test.shape[0])\n",
    "# print(\"X_test.shape[1]:\",x_test.shape[1])"
   ]
  },
  {
   "cell_type": "code",
   "execution_count": 33,
   "outputs": [
    {
     "name": "stdout",
     "output_type": "stream",
     "text": [
      "(34, 2, 32)\n"
     ]
    }
   ],
   "source": [
    "print((np.array(result)).shape)"
   ],
   "metadata": {
    "collapsed": false,
    "pycharm": {
     "name": "#%%\n"
    }
   }
  },
  {
   "cell_type": "code",
   "execution_count": 34,
   "outputs": [],
   "source": [
    "e_count = e_count + 1"
   ],
   "metadata": {
    "collapsed": false,
    "pycharm": {
     "name": "#%%\n"
    }
   }
  },
  {
   "cell_type": "code",
   "execution_count": 35,
   "outputs": [
    {
     "name": "stdout",
     "output_type": "stream",
     "text": [
      "5\n"
     ]
    }
   ],
   "source": [
    "print(e_count)"
   ],
   "metadata": {
    "collapsed": false,
    "pycharm": {
     "name": "#%%\n"
    }
   }
  },
  {
   "cell_type": "markdown",
   "source": [
    "### 查看训练集和测试集是否在同一分布下"
   ],
   "metadata": {
    "collapsed": false,
    "pycharm": {
     "name": "#%% md\n"
    }
   }
  },
  {
   "cell_type": "markdown",
   "source": [
    "# 曲线绘制测试"
   ],
   "metadata": {
    "collapsed": false,
    "pycharm": {
     "name": "#%% md\n"
    }
   }
  },
  {
   "cell_type": "code",
   "execution_count": 36,
   "outputs": [
    {
     "name": "stderr",
     "output_type": "stream",
     "text": [
      "C:\\Users\\AnleHrc\\AppData\\Local\\Temp\\ipykernel_18320\\4211843346.py:5: UserWarning: \n",
      "\n",
      "`distplot` is a deprecated function and will be removed in seaborn v0.14.0.\n",
      "\n",
      "Please adapt your code to use either `displot` (a figure-level function with\n",
      "similar flexibility) or `histplot` (an axes-level function for histograms).\n",
      "\n",
      "For a guide to updating your code to use the new functions, please see\n",
      "https://gist.github.com/mwaskom/de44147ed2974457ad6372750bbe5751\n",
      "\n",
      "  sns.distplot(x_train, hist=True, kde=False, label='Train Data')\n",
      "C:\\Users\\AnleHrc\\AppData\\Local\\Temp\\ipykernel_18320\\4211843346.py:6: UserWarning: \n",
      "\n",
      "`distplot` is a deprecated function and will be removed in seaborn v0.14.0.\n",
      "\n",
      "Please adapt your code to use either `displot` (a figure-level function with\n",
      "similar flexibility) or `histplot` (an axes-level function for histograms).\n",
      "\n",
      "For a guide to updating your code to use the new functions, please see\n",
      "https://gist.github.com/mwaskom/de44147ed2974457ad6372750bbe5751\n",
      "\n",
      "  sns.distplot(x_test, hist=True, kde=False, label='Test Data')\n"
     ]
    },
    {
     "data": {
      "text/plain": "<Figure size 640x480 with 1 Axes>",
      "image/png": "[encoded data removed]"
     },
     "metadata": {},
     "output_type": "display_data"
    }
   ],
   "source": [
    "import seaborn as sns\n",
    "import matplotlib.pyplot as plt\n",
    "\n",
    "# 绘制直方图\n",
    "sns.distplot(x_train, hist=True, kde=False, label='Train Data')\n",
    "sns.distplot(x_test, hist=True, kde=False, label='Test Data')\n",
    "\n",
    "plt.legend()\n",
    "plt.savefig('../Result/SVM_Image/Zero_Three_Col_FLX_AU{}.png'.format(e_count))\n",
    "plt.show()"
   ],
   "metadata": {
    "collapsed": false,
    "pycharm": {
     "name": "#%%\n"
    }
   }
  },
  {
   "cell_type": "code",
   "execution_count": 37,
   "outputs": [],
   "source": [
    "# import matplotlib.pyplot as plt\n",
    "# import numpy as np\n",
    "#\n",
    "# x = np.linspace(0, 5, 50)\n",
    "# y_train_show = y_train[100:400]\n",
    "#\n",
    "# # 将数据转换成pandas的Series类型，并进行滑动平均处理\n",
    "# df = pd.Series(y_train_show).rolling(window=5).mean()\n",
    "#\n",
    "# # 绘制平滑后的曲线\n",
    "# plt.figure(figsize=(12,6))\n",
    "# plt.plot(df)\n",
    "# plt.xlabel('x')\n",
    "# plt.ylabel('y')\n",
    "# plt.title('Test')\n",
    "# plt.show()\n"
   ],
   "metadata": {
    "collapsed": false,
    "pycharm": {
     "name": "#%%\n"
    }
   }
  },
  {
   "cell_type": "code",
   "execution_count": 38,
   "outputs": [],
   "source": [
    "#print(\"train_set:\",x_train[17363]) #数据为     17364个块(窗口)  <- 5行数据为一个序列=时间窗口 <- 一行数据(八个特征)"
   ],
   "metadata": {
    "collapsed": false,
    "pycharm": {
     "name": "#%%\n"
    }
   }
  },
  {
   "cell_type": "code",
   "execution_count": 39,
   "metadata": {
    "pycharm": {
     "name": "#%%\n"
    }
   },
   "outputs": [
    {
     "name": "stdout",
     "output_type": "stream",
     "text": [
      "X_train (28, 1, 32)\n",
      "y_train (28,)\n",
      "X_test (6, 1, 32)\n",
      "y_test (6,)\n"
     ]
    }
   ],
   "source": [
    "#展示下训练集测试集的形状 看有没有问题\n",
    "print(\"X_train\", X_train.shape)\n",
    "print(\"y_train\", y_train.shape)\n",
    "print(\"X_test\", X_test.shape)\n",
    "print(\"y_test\", y_test.shape)"
   ]
  },
  {
   "cell_type": "code",
   "execution_count": 40,
   "outputs": [
    {
     "name": "stdout",
     "output_type": "stream",
     "text": [
      "Length X_train: 28\n",
      "Length y_train: 28\n",
      "cut 6\n",
      "X_test: 6\n",
      "y_test: 6\n"
     ]
    }
   ],
   "source": [
    "print(\"Length X_train:\",len(X_train))\n",
    "print(\"Length y_train:\",len(y_train))\n",
    "print(\"cut\",cut)\n",
    "print(\"X_test:\",len(X_test))\n",
    "print(\"y_test:\",len(y_test))"
   ],
   "metadata": {
    "collapsed": false,
    "pycharm": {
     "name": "#%%\n"
    }
   }
  },
  {
   "cell_type": "code",
   "execution_count": 41,
   "metadata": {
    "pycharm": {
     "name": "#%%\n"
    }
   },
   "outputs": [
    {
     "name": "stdout",
     "output_type": "stream",
     "text": [
      "X_train (28, 32)\n",
      "y_train (28,)\n",
      "X_test (6, 32)\n",
      "y_test (6,)\n"
     ]
    }
   ],
   "source": [
    "#更改数组shape\n",
    "X_train=X_train.reshape(len(X_train),window*(len(df1.iloc[0]))) #17365 * 4 * 8 = 557120 = 17365*32\n",
    "y_train=y_train.reshape(len(X_train)) # 17365\n",
    "X_test=X_test.reshape(cut,window*(len(df1.iloc[0]))) # 150 * 4 * 8 = 150 * 32(window)\n",
    "y_test=y_test.reshape(cut) # 150\n",
    "print(\"X_train\", X_train.shape)\n",
    "print(\"y_train\", y_train.shape)\n",
    "print(\"X_test\", X_test.shape)\n",
    "print(\"y_test\", y_test.shape)"
   ]
  },
  {
   "cell_type": "code",
   "execution_count": 42,
   "outputs": [],
   "source": [
    "# print(y_train)"
   ],
   "metadata": {
    "collapsed": false,
    "pycharm": {
     "name": "#%%\n"
    }
   }
  },
  {
   "cell_type": "code",
   "execution_count": 43,
   "metadata": {
    "pycharm": {
     "name": "#%%\n"
    }
   },
   "outputs": [
    {
     "name": "stdout",
     "output_type": "stream",
     "text": [
      "Train MSE: 0.006360252439727475\n",
      "Test MSE: 0.04357860250321493\n"
     ]
    }
   ],
   "source": [
    "# Fit regression model\n",
    "from sklearn.svm import SVR  \n",
    "# svr = SVR(kernel='rbf',C=10)\n",
    "# model = svr.fit(X_train, y_train)\n",
    "from sklearn.linear_model import LinearRegression\n",
    "from sklearn.ensemble import RandomForestRegressor\n",
    "from sklearn.ensemble import VotingRegressor\n",
    "from sklearn.model_selection import GridSearchCV\n",
    "from sklearn.metrics import mean_squared_error\n",
    "\n",
    "# Grid search for best hyperparameters\n",
    "#这里使用网格搜索方法，对正则化参数C和核函数的参数gamma进行了调整，并使用交叉验证来选择最佳的超参数。在训练集和测试集上分别计算了均方误差（MSE）。\n",
    "param_grid = {\n",
    "    'C': [0.01,0.1, 1, 10, 100],\n",
    "    'gamma': [0.001, 0.01, 0.1, 1, 'scale', 'auto']\n",
    "}\n",
    "\n",
    "grid_search = GridSearchCV(SVR(kernel='poly'), param_grid, cv=5, scoring='neg_mean_squared_error')\n",
    "\n",
    "# 初始化三个不同的回归模型\n",
    "lr = LinearRegression()\n",
    "rf = RandomForestRegressor(n_estimators=10)\n",
    "\n",
    "\n",
    "# 构建模型集成器\n",
    "model = VotingRegressor(estimators=[('lr', lr), ('rf', rf), ('svr', grid_search)])\n",
    "\n",
    "# 拟合模型并进行预测\n",
    "model.fit(X_train, y_train)\n",
    "y_pred_train = model.predict(X_train)#训练集上的预测结果\n",
    "y_pred_test = model.predict(X_test)#测试集预测结果\n",
    "\n",
    "#grid_search.fit(X_train, y_train)\n",
    "\n",
    "# Train and evaluate model\n",
    "#model = grid_search.best_estimator_\n",
    "#y_pred_train = model.predict(X_train)\n",
    "#y_pred_test = model.predict(X_test)\n",
    "\n",
    "print(\"Train MSE:\", mean_squared_error(y_train, y_pred_train))\n",
    "print(\"Test MSE:\", mean_squared_error(y_test, y_pred_test))\n",
    "# print(\"Test MSE:\", mean_squared_error(y_test, y_pred_test))"
   ]
  },
  {
   "cell_type": "markdown",
   "source": [
    "### 此方法速度最快，准确度略低于第一种和第三种"
   ],
   "metadata": {
    "collapsed": false,
    "pycharm": {
     "name": "#%% md\n"
    }
   }
  },
  {
   "cell_type": "code",
   "execution_count": 22,
   "outputs": [
    {
     "name": "stdout",
     "output_type": "stream",
     "text": [
      "SVR(kernel='poly')\n"
     ]
    }
   ],
   "source": [
    "#简单模型预测\n",
    "# Fit regression model\n",
    "from sklearn.svm import SVR\n",
    "svr = SVR(kernel='poly')\n",
    "model = svr.fit(X_train, y_train)\n",
    "\n",
    "# 拟合模型并进行预测\n",
    "model.fit(X_train, y_train)\n",
    "y_pred_train = model.predict(X_train)#训练集上的预测结果\n",
    "y_pred_test = model.predict(X_test)#测试集预测结果\n",
    "print(model)"
   ],
   "metadata": {
    "collapsed": false,
    "pycharm": {
     "name": "#%%\n"
    }
   }
  },
  {
   "cell_type": "code",
   "execution_count": 70,
   "outputs": [],
   "source": [
    "# Fit regression model\n",
    "from sklearn.svm import SVR\n",
    "# svr = SVR(kernel='rbf',C=10)\n",
    "# model = svr.fit(X_train, y_train)\n",
    "from sklearn.linear_model import LinearRegression\n",
    "from sklearn.ensemble import RandomForestRegressor\n",
    "from sklearn.ensemble import VotingRegressor\n",
    "from sklearn.model_selection import GridSearchCV\n",
    "from sklearn.metrics import mean_squared_error\n",
    "param_grid = {\n",
    "    'C': [0.01,0.1, 1, 10, 100,1000],\n",
    "    'gamma': [0.001, 0.01, 0.1, 1, 'scale', 'auto'],\n",
    "}\n",
    "\n",
    "grid_search = GridSearchCV(SVR(kernel='poly'), param_grid, cv=5, scoring='neg_mean_squared_error')\n",
    "model = grid_search.fit(X_train, y_train)\n",
    "# 拟合模型并进行预测\n",
    "model.fit(X_train, y_train)\n",
    "y_pred_train = model.predict(X_train)#训练集上的预测结果\n",
    "y_pred_test = model.predict(X_test)#测试集预测结果"
   ],
   "metadata": {
    "collapsed": false,
    "pycharm": {
     "name": "#%%\n"
    }
   }
  },
  {
   "cell_type": "code",
   "execution_count": 75,
   "metadata": {
    "pycharm": {
     "name": "#%%\n"
    }
   },
   "outputs": [],
   "source": [
    "#在训练集上的拟合结果\n",
    "# y_train_predict=model.predict(X_train)"
   ]
  },
  {
   "cell_type": "code",
   "execution_count": 76,
   "outputs": [],
   "source": [
    "# print(y_train_predict)"
   ],
   "metadata": {
    "collapsed": false,
    "pycharm": {
     "name": "#%%\n"
    }
   }
  },
  {
   "cell_type": "code",
   "execution_count": 46,
   "metadata": {
    "pycharm": {
     "name": "#%%\n"
    }
   },
   "outputs": [
    {
     "ename": "ValueError",
     "evalue": "non-broadcastable output operand with shape (28,1) doesn't match the broadcast shape (28,32)",
     "output_type": "error",
     "traceback": [
      "\u001B[1;31m---------------------------------------------------------------------------\u001B[0m",
      "\u001B[1;31mValueError\u001B[0m                                Traceback (most recent call last)",
      "Cell \u001B[1;32mIn[46], line 15\u001B[0m\n\u001B[0;32m     11\u001B[0m draw\u001B[38;5;241m.\u001B[39miloc[\u001B[38;5;241m0\u001B[39m:\u001B[38;5;241m35\u001B[39m,\u001B[38;5;241m1\u001B[39m]\u001B[38;5;241m.\u001B[39mplot(figsize\u001B[38;5;241m=\u001B[39m(\u001B[38;5;241m12\u001B[39m,\u001B[38;5;241m6\u001B[39m))\n\u001B[0;32m     13\u001B[0m a_p \u001B[38;5;241m=\u001B[39m draw\u001B[38;5;241m.\u001B[39miloc[\u001B[38;5;241m0\u001B[39m:\u001B[38;5;241m28\u001B[39m,\u001B[38;5;241m1\u001B[39m]\n\u001B[1;32m---> 15\u001B[0m actual_predictions \u001B[38;5;241m=\u001B[39m\u001B[43mmin_max_scaler\u001B[49m\u001B[38;5;241;43m.\u001B[39;49m\u001B[43minverse_transform\u001B[49m\u001B[43m(\u001B[49m\u001B[43mnp\u001B[49m\u001B[38;5;241;43m.\u001B[39;49m\u001B[43marray\u001B[49m\u001B[43m(\u001B[49m\u001B[43ma_p\u001B[49m\u001B[43m)\u001B[49m\u001B[38;5;241;43m.\u001B[39;49m\u001B[43mreshape\u001B[49m\u001B[43m(\u001B[49m\u001B[38;5;241;43m-\u001B[39;49m\u001B[38;5;241;43m1\u001B[39;49m\u001B[43m,\u001B[49m\u001B[38;5;241;43m1\u001B[39;49m\u001B[43m)\u001B[49m\u001B[43m)\u001B[49m\n\u001B[0;32m     16\u001B[0m \u001B[38;5;28mprint\u001B[39m(actual_predictions)\n\u001B[0;32m     18\u001B[0m plt\u001B[38;5;241m.\u001B[39mlegend((\u001B[38;5;124m'\u001B[39m\u001B[38;5;124mreal\u001B[39m\u001B[38;5;124m'\u001B[39m, \u001B[38;5;124m'\u001B[39m\u001B[38;5;124mpredict\u001B[39m\u001B[38;5;124m'\u001B[39m),loc\u001B[38;5;241m=\u001B[39m\u001B[38;5;124m'\u001B[39m\u001B[38;5;124mupper right\u001B[39m\u001B[38;5;124m'\u001B[39m,fontsize\u001B[38;5;241m=\u001B[39m\u001B[38;5;124m'\u001B[39m\u001B[38;5;124m15\u001B[39m\u001B[38;5;124m'\u001B[39m)\n",
      "File \u001B[1;32mD:\\PythonFile\\TestAI\\venv\\Lib\\site-packages\\sklearn\\preprocessing\\_data.py:541\u001B[0m, in \u001B[0;36mMinMaxScaler.inverse_transform\u001B[1;34m(self, X)\u001B[0m\n\u001B[0;32m    535\u001B[0m check_is_fitted(\u001B[38;5;28mself\u001B[39m)\n\u001B[0;32m    537\u001B[0m X \u001B[38;5;241m=\u001B[39m check_array(\n\u001B[0;32m    538\u001B[0m     X, copy\u001B[38;5;241m=\u001B[39m\u001B[38;5;28mself\u001B[39m\u001B[38;5;241m.\u001B[39mcopy, dtype\u001B[38;5;241m=\u001B[39mFLOAT_DTYPES, force_all_finite\u001B[38;5;241m=\u001B[39m\u001B[38;5;124m\"\u001B[39m\u001B[38;5;124mallow-nan\u001B[39m\u001B[38;5;124m\"\u001B[39m\n\u001B[0;32m    539\u001B[0m )\n\u001B[1;32m--> 541\u001B[0m \u001B[43mX\u001B[49m\u001B[43m \u001B[49m\u001B[38;5;241;43m-\u001B[39;49m\u001B[38;5;241;43m=\u001B[39;49m\u001B[43m \u001B[49m\u001B[38;5;28;43mself\u001B[39;49m\u001B[38;5;241;43m.\u001B[39;49m\u001B[43mmin_\u001B[49m\n\u001B[0;32m    542\u001B[0m X \u001B[38;5;241m/\u001B[39m\u001B[38;5;241m=\u001B[39m \u001B[38;5;28mself\u001B[39m\u001B[38;5;241m.\u001B[39mscale_\n\u001B[0;32m    543\u001B[0m \u001B[38;5;28;01mreturn\u001B[39;00m X\n",
      "\u001B[1;31mValueError\u001B[0m: non-broadcastable output operand with shape (28,1) doesn't match the broadcast shape (28,32)"
     ]
    },
    {
     "data": {
      "text/plain": "<Figure size 1200x600 with 1 Axes>",
      "image/png": "[encoded data removed]"
     },
     "metadata": {},
     "output_type": "display_data"
    }
   ],
   "source": [
    "#输出结果\n",
    "from sklearn.metrics import mean_absolute_error\n",
    "from sklearn.metrics import mean_squared_error\n",
    "\n",
    "import math\n",
    "def mape(y_true, y_pred):\n",
    "    return np.mean(np.abs((y_pred - y_true) / y_true)) * 100\n",
    "\n",
    "draw=pd.concat([pd.DataFrame(y_train),pd.DataFrame(y_pred_train)],axis=1)\n",
    "draw.iloc[0:1767,0].plot(figsize=(12,6))\n",
    "draw.iloc[0:1767,1].plot(figsize=(12,6))\n",
    "\n",
    "a_p = draw.iloc[0:1767,1]\n",
    "\n",
    "actual_predictions =min_max_scaler.inverse_transform(np.array(a_p).reshape(-1,1))\n",
    "print(actual_predictions)\n",
    "\n",
    "plt.legend(('real', 'predict'),loc='upper right',fontsize='15')\n",
    "plt.title(\"Train Data  For Air_SW_IN_F\",fontsize='30') #添加标题\n",
    "#展示在训练集上的表现\n",
    "from sklearn.metrics import r2_score\n",
    "r2 = r2_score(y_train,y_pred_train)\n",
    "# plt.text(0.01, 0.95, 'R² - {:.5f}'.format(r2),transform=plt.gca().transAxes, fontsize=13)\n",
    "# plt.text(0.01, 0.87, 'MAE - {:.5f}'.format(mean_absolute_error(y_pred_train, y_train)), transform=plt.gca().transAxes, fontsize=13)\n",
    "# plt.text(0.01, 0.79, 'MSE - {:.5f}'.format(mean_squared_error(y_pred_train, y_train)), transform=plt.gca().transAxes, fontsize=13)\n",
    "# plt.text(0.01, 0.71, 'MAPE - {:.5f}'.format(mape(y_pred_train, y_train) ), transform=plt.gca().transAxes, fontsize=13)\n",
    "textstr = '\\n'.join((\n",
    "    'R² : {:.5f}'.format(r2),\n",
    "    'MAE : {:.5f}'.format(mean_absolute_error(y_pred_train, y_train)),\n",
    "    'MSE : {:.5f}'.format(mean_squared_error(y_pred_train, y_train)),\n",
    "    'MAPE : {:.5f}'.format(mape(y_pred_train, y_train))))\n",
    "\n",
    "props = dict(boxstyle='round', facecolor='wheat', alpha=0.1)\n",
    "\n",
    "plt.text(0.05, 0.97, textstr, transform=plt.gca().transAxes, fontsize=12, verticalalignment='top', bbox=props)\n",
    "print(\"R方:\",r2)\n",
    "# plt.savefig('../Result/SVM_Image/SVM_TrainData_Air_LR_RF_SVR_SW_IN_F_Prediction_{}.png'.format(e_count))"
   ]
  },
  {
   "cell_type": "code",
   "execution_count": 24,
   "metadata": {
    "pycharm": {
     "name": "#%%\n"
    }
   },
   "outputs": [],
   "source": [
    "#在测试集上的预测\n",
    "# y_test_predict=model.predict(X_test)\n"
   ]
  },
  {
   "cell_type": "code",
   "execution_count": 47,
   "metadata": {
    "pycharm": {
     "name": "#%%\n"
    }
   },
   "outputs": [
    {
     "data": {
      "text/plain": "<Figure size 1200x600 with 1 Axes>",
      "image/png": "[encoded data removed]"
     },
     "metadata": {},
     "output_type": "display_data"
    }
   ],
   "source": [
    "draw=pd.concat([pd.DataFrame(y_test),pd.DataFrame(y_pred_test)],axis=1);\n",
    "# print(draw.iloc[:])\n",
    "draw.iloc[0:100,0].plot(figsize=(12,6))\n",
    "draw.iloc[0:100,1].plot(figsize=(12,6))\n",
    "plt.legend(('real', 'predict'),loc='upper right',fontsize='15')\n",
    "plt.title(\"Test Data For Air_SW_IN_F\",fontsize='30') #添加标题\n",
    "\n",
    "from sklearn.metrics import r2_score\n",
    "r2 = r2_score(y_test,y_pred_test)\n",
    "# plt.text(0.01, 0.95, 'R² - {:.5f}'.format(r2),transform=plt.gca().transAxes, fontsize=13)\n",
    "# plt.text(0.01, 0.87, 'MAE - {:.5f}'.format(mean_absolute_error(y_pred_train, y_train)), transform=plt.gca().transAxes, fontsize=13)\n",
    "# plt.text(0.01, 0.79, 'MSE - {:.5f}'.format(mean_squared_error(y_pred_train, y_train)), transform=plt.gca().transAxes, fontsize=13)\n",
    "# plt.text(0.01, 0.71, 'MAPE - {:.5f}'.format(mape(y_pred_train, y_train) ), transform=plt.gca().transAxes, fontsize=13)\n",
    "textstr = '\\n'.join((\n",
    "    'R² : {:.5f}'.format(r2),\n",
    "    'MAE : {:.5f}'.format(mean_absolute_error(y_pred_test, y_test)),\n",
    "    'MSE : {:.5f}'.format(mean_squared_error(y_pred_test, y_test)),\n",
    "    'MAPE : {:.5f}'.format(mape(y_pred_test, y_test))))\n",
    "\n",
    "props = dict(boxstyle='round', facecolor='wheat', alpha=0.1)\n",
    "\n",
    "plt.text(0.05, 0.97, textstr, transform=plt.gca().transAxes, fontsize=12, verticalalignment='top', bbox=props)\n",
    "#展示在测试集上的表现\n",
    "#保存图片\n",
    "plt.savefig('../Result/SVM_Image/SVM_TestData_Air_LR_RF_SVR_Prediction_{}.png'.format(e_count))"
   ]
  },
  {
   "cell_type": "code",
   "execution_count": 25,
   "outputs": [
    {
     "name": "stdout",
     "output_type": "stream",
     "text": [
      "训练集上的MAE/MSE/MAPE\n",
      "0.040052372164138886\n",
      "0.0023130529869563685\n",
      "68.8019630852142\n",
      "测试集上的MAE/MSE/MAPE\n",
      "0.04452594273594084\n",
      "0.0033386591751027265\n",
      "67.57897077589939\n"
     ]
    },
    {
     "data": {
      "text/plain": "0.9609000634505842"
     },
     "execution_count": 25,
     "metadata": {},
     "output_type": "execute_result"
    }
   ],
   "source": [
    " #输出结果\n",
    "from sklearn.metrics import mean_absolute_error\n",
    "from sklearn.metrics import mean_squared_error\n",
    "from sklearn.metrics import r2_score\n",
    "\n",
    "import math\n",
    "def mape(y_true, y_pred):\n",
    "    return np.mean(np.abs((y_pred - y_true) / y_true)) * 100\n",
    "print('训练集上的MAE/MSE/MAPE')\n",
    "print(mean_absolute_error(y_pred_train, y_train))\n",
    "print(mean_squared_error(y_pred_train, y_train) )\n",
    "print(mape(y_pred_train, y_train) )\n",
    "print('测试集上的MAE/MSE/MAPE')\n",
    "print(mean_absolute_error(y_pred_test, y_test))\n",
    "print(mean_squared_error(y_pred_test, y_test) )\n",
    "print(mape(y_pred_test, y_test) )\n",
    "r2_score(y_test,y_pred_test)\n",
    "\n",
    "## 为什么MAPE那么高？"
   ],
   "metadata": {
    "collapsed": false,
    "pycharm": {
     "name": "#%%\n"
    }
   }
  }
 ],
 "metadata": {
  "anaconda-cloud": {},
  "kernelspec": {
   "display_name": "Python 3",
   "language": "python",
   "name": "python3"
  },
  "language_info": {
   "codemirror_mode": {
    "name": "ipython",
    "version": 3
   },
   "file_extension": ".py",
   "mimetype": "text/x-python",
   "name": "python",
   "nbconvert_exporter": "python",
   "pygments_lexer": "ipython3",
   "version": "3.5.5"
  }
 },
 "nbformat": 4,
 "nbformat_minor": 1
}