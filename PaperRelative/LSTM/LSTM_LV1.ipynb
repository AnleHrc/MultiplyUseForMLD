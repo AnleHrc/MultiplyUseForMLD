{
 "cells": [
  {
   "cell_type": "code",
   "execution_count": 58,
   "outputs": [],
   "source": [
    "import numpy as np\n",
    "import pandas as pd\n",
    "from keras.models import Sequential\n",
    "from keras.layers import Dense, LSTM"
   ],
   "metadata": {
    "collapsed": false,
    "pycharm": {
     "name": "#%%\n"
    }
   }
  },
  {
   "cell_type": "code",
   "execution_count": 59,
   "outputs": [],
   "source": [
    "# 读取数据\n",
    "data = pd.read_csv('../Resource/Harlington_clean.csv')"
   ],
   "metadata": {
    "collapsed": false,
    "pycharm": {
     "name": "#%%\n"
    }
   }
  },
  {
   "cell_type": "code",
   "execution_count": 60,
   "outputs": [],
   "source": [
    "# 准备数据\n",
    "air_temp = data['air_temp'].values # 温度数据\n",
    "o3 = data['o3'].values # 臭氧数据\n",
    "no2 = data['no2'].values # 二氧化氮数据\n",
    "no = data['no'].values # 一氧化氮数据"
   ],
   "metadata": {
    "collapsed": false,
    "pycharm": {
     "name": "#%%\n"
    }
   }
  },
  {
   "cell_type": "code",
   "execution_count": 61,
   "outputs": [
    {
     "name": "stdout",
     "output_type": "stream",
     "text": [
      "[4.97765241 5.01267906 5.05103962 5.0996309  5.15642346]\n",
      "[58.31916164 57.65957454 57.03837684 56.43579479 55.82770424]\n",
      "[17.16265361 17.8366843  18.46117815 19.06832447 19.68321855]\n",
      "[5.53685337 5.71771789 5.89544914 6.07272127 6.25027861]\n"
     ]
    }
   ],
   "source": [
    "print(air_temp[:5])\n",
    "print(o3[:5])\n",
    "print(no2[:5])\n",
    "print(no[:5])"
   ],
   "metadata": {
    "collapsed": false,
    "pycharm": {
     "name": "#%%\n"
    }
   }
  },
  {
   "cell_type": "code",
   "execution_count": 62,
   "outputs": [],
   "source": [
    "# 将数据转换成LSTM可用的格式\n",
    "X = np.column_stack((air_temp[:-1], o3[:-1], no2[:-1], no[:-1])) # 输入特征\n",
    "y = air_temp[1:] # 输出目标"
   ],
   "metadata": {
    "collapsed": false,
    "pycharm": {
     "name": "#%%\n"
    }
   }
  },
  {
   "cell_type": "code",
   "execution_count": 63,
   "outputs": [
    {
     "name": "stdout",
     "output_type": "stream",
     "text": [
      "变量 [[ 4.97765241 58.31916164 17.16265361  5.53685337]\n",
      " [ 5.01267906 57.65957454 17.8366843   5.71771789]\n",
      " [ 5.05103962 57.03837684 18.46117815  5.89544914]\n",
      " ...\n",
      " [ 3.22798162  3.78940876 39.39854998 11.47427855]\n",
      " [ 3.20851431  3.67970631 39.51989273 11.22706376]\n",
      " [ 3.19211734  3.61212752 39.58173224 10.97787094]]\n",
      "目标值 [5.01267906 5.05103962 5.0996309  ... 3.20851431 3.19211734 3.17895924]\n",
      "3.1789592434423555\n"
     ]
    }
   ],
   "source": [
    "print(\"变量\",X) # [air_temp,o3,no2,no]\n",
    "print(\"目标值\",y)\n",
    "print(air_temp[-1])"
   ],
   "metadata": {
    "collapsed": false,
    "pycharm": {
     "name": "#%%\n"
    }
   }
  },
  {
   "cell_type": "code",
   "execution_count": 64,
   "outputs": [],
   "source": [
    "# 创建LSTM模型\n",
    "model = Sequential()\n",
    "model.add(LSTM(50, input_shape=(X.shape[1], 1)))\n",
    "model.add(Dense(1))\n",
    "model.compile(loss='mean_squared_error', optimizer='adam')"
   ],
   "metadata": {
    "collapsed": false,
    "pycharm": {
     "name": "#%%\n"
    }
   }
  },
  {
   "cell_type": "code",
   "execution_count": 65,
   "outputs": [],
   "source": [
    "# 创建LSTM模型\n",
    "model = Sequential()\n",
    "model.add(LSTM(50, input_shape=(X.shape[1], 1)))\n",
    "model.add(Dense(1))\n",
    "model.compile(loss='mean_squared_error', optimizer='adam')"
   ],
   "metadata": {
    "collapsed": false,
    "pycharm": {
     "name": "#%%\n"
    }
   }
  },
  {
   "cell_type": "code",
   "execution_count": 66,
   "outputs": [
    {
     "name": "stdout",
     "output_type": "stream",
     "text": [
      "1/1 [==============================] - 0s 265ms/step\n",
      "预测的ET值为: [[0.97520983]]\n"
     ]
    }
   ],
   "source": [
    "# 使用模型进行预测\n",
    "last_air_temp = air_temp[-1] # 最近一个月的ET\n",
    "last_o3 = o3[-1] # 最近一个月的辐射\n",
    "last_no2 = no2[-1] # 最近一个月的湿度\n",
    "last_no = no[-1] # 最近一个月的温度\n",
    "last_data = np.array([[last_air_temp, last_o3, last_no2, last_no]])\n",
    "last_data = np.reshape(last_data, (1, last_data.shape[1], 1))\n",
    "predicted_et = model.predict(last_data)\n",
    "\n",
    "print(\"预测的air_temp值为:\", predicted_et)"
   ],
   "metadata": {
    "collapsed": false,
    "pycharm": {
     "name": "#%%\n"
    }
   }
  }
 ],
 "metadata": {
  "kernelspec": {
   "display_name": "Python 3",
   "language": "python",
   "name": "python3"
  },
  "language_info": {
   "codemirror_mode": {
    "name": "ipython",
    "version": 2
   },
   "file_extension": ".py",
   "mimetype": "text/x-python",
   "name": "python",
   "nbconvert_exporter": "python",
   "pygments_lexer": "ipython2",
   "version": "2.7.6"
  }
 },
 "nbformat": 4,
 "nbformat_minor": 0
}