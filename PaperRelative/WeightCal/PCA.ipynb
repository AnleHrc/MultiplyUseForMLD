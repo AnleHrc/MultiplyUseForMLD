{
 "cells": [
  {
   "cell_type": "code",
   "execution_count": 1,
   "outputs": [],
   "source": [
    "import numpy as np\n",
    "import pandas as pd\n",
    "import matplotlib.pyplot as plt"
   ],
   "metadata": {
    "collapsed": false,
    "pycharm": {
     "name": "#%%\n"
    }
   }
  },
  {
   "cell_type": "code",
   "execution_count": 2,
   "outputs": [],
   "source": [
    "datatest = pd.read_excel('../Resource/ExperimentDataBase/spad_3.xlsx')\n",
    "\n",
    "origin_var = datatest[['Band1蓝','Band2绿','Band3红','Band4红边','Band5近红外1','Band6近红外2','SPAD','株高','LAI','Gs','含水率']]"
   ],
   "metadata": {
    "collapsed": false,
    "pycharm": {
     "name": "#%%\n"
    }
   }
  },
  {
   "cell_type": "code",
   "execution_count": 3,
   "outputs": [
    {
     "data": {
      "text/plain": "     Band1蓝    Band2绿    Band3红   Band4红边  Band5近红外1  Band6近红外2       SPAD  \\\n0  0.017563  0.063363  0.030160  0.111947   0.240020   0.230200  37.466667   \n1  0.006993  0.025344  0.012045  0.044942   0.112771   0.092727  35.991667   \n2  0.012832  0.046415  0.022028  0.082061   0.205726   0.168956  35.941667   \n3  0.021053  0.075838  0.036377  0.133764   0.333575   0.273729  34.941667   \n4  0.021175  0.076440  0.036424  0.134713   0.336285   0.276091  40.300000   \n\n         株高       LAI        Gs       含水率  \n0  1.178000  2.917709  0.178455  0.431203  \n1  1.503667  2.054150  0.295477  0.474259  \n2  1.367167  3.599002  0.204608  0.423770  \n3  1.101889  3.320240  0.170752  0.449212  \n4  1.551556  3.309667  0.186866  0.437433  ",
      "text/html": "<div>\n<style scoped>\n    .dataframe tbody tr th:only-of-type {\n        vertical-align: middle;\n    }\n\n    .dataframe tbody tr th {\n        vertical-align: top;\n    }\n\n    .dataframe thead th {\n        text-align: right;\n    }\n</style>\n<table border=\"1\" class=\"dataframe\">\n  <thead>\n    <tr style=\"text-align: right;\">\n      <th></th>\n      <th>Band1蓝</th>\n      <th>Band2绿</th>\n      <th>Band3红</th>\n      <th>Band4红边</th>\n      <th>Band5近红外1</th>\n      <th>Band6近红外2</th>\n      <th>SPAD</th>\n      <th>株高</th>\n      <th>LAI</th>\n      <th>Gs</th>\n      <th>含水率</th>\n    </tr>\n  </thead>\n  <tbody>\n    <tr>\n      <th>0</th>\n      <td>0.017563</td>\n      <td>0.063363</td>\n      <td>0.030160</td>\n      <td>0.111947</td>\n      <td>0.240020</td>\n      <td>0.230200</td>\n      <td>37.466667</td>\n      <td>1.178000</td>\n      <td>2.917709</td>\n      <td>0.178455</td>\n      <td>0.431203</td>\n    </tr>\n    <tr>\n      <th>1</th>\n      <td>0.006993</td>\n      <td>0.025344</td>\n      <td>0.012045</td>\n      <td>0.044942</td>\n      <td>0.112771</td>\n      <td>0.092727</td>\n      <td>35.991667</td>\n      <td>1.503667</td>\n      <td>2.054150</td>\n      <td>0.295477</td>\n      <td>0.474259</td>\n    </tr>\n    <tr>\n      <th>2</th>\n      <td>0.012832</td>\n      <td>0.046415</td>\n      <td>0.022028</td>\n      <td>0.082061</td>\n      <td>0.205726</td>\n      <td>0.168956</td>\n      <td>35.941667</td>\n      <td>1.367167</td>\n      <td>3.599002</td>\n      <td>0.204608</td>\n      <td>0.423770</td>\n    </tr>\n    <tr>\n      <th>3</th>\n      <td>0.021053</td>\n      <td>0.075838</td>\n      <td>0.036377</td>\n      <td>0.133764</td>\n      <td>0.333575</td>\n      <td>0.273729</td>\n      <td>34.941667</td>\n      <td>1.101889</td>\n      <td>3.320240</td>\n      <td>0.170752</td>\n      <td>0.449212</td>\n    </tr>\n    <tr>\n      <th>4</th>\n      <td>0.021175</td>\n      <td>0.076440</td>\n      <td>0.036424</td>\n      <td>0.134713</td>\n      <td>0.336285</td>\n      <td>0.276091</td>\n      <td>40.300000</td>\n      <td>1.551556</td>\n      <td>3.309667</td>\n      <td>0.186866</td>\n      <td>0.437433</td>\n    </tr>\n  </tbody>\n</table>\n</div>"
     },
     "execution_count": 3,
     "metadata": {},
     "output_type": "execute_result"
    }
   ],
   "source": [
    "origin_var.head()"
   ],
   "metadata": {
    "collapsed": false,
    "pycharm": {
     "name": "#%%\n"
    }
   }
  },
  {
   "cell_type": "code",
   "execution_count": 4,
   "outputs": [
    {
     "name": "stdout",
     "output_type": "stream",
     "text": [
      "Band1蓝       0\n",
      "Band2绿       0\n",
      "Band3红       0\n",
      "Band4红边      0\n",
      "Band5近红外1    0\n",
      "Band6近红外2    0\n",
      "SPAD         0\n",
      "株高           0\n",
      "LAI          0\n",
      "Gs           0\n",
      "含水率          0\n",
      "dtype: int64\n"
     ]
    }
   ],
   "source": [
    "print(origin_var.isnull().sum())"
   ],
   "metadata": {
    "collapsed": false,
    "pycharm": {
     "name": "#%%\n"
    }
   }
  },
  {
   "cell_type": "code",
   "execution_count": 5,
   "outputs": [
    {
     "name": "stdout",
     "output_type": "stream",
     "text": [
      "Band1蓝       0\n",
      "Band2绿       0\n",
      "Band3红       0\n",
      "Band4红边      0\n",
      "Band5近红外1    0\n",
      "Band6近红外2    0\n",
      "SPAD         0\n",
      "株高           0\n",
      "LAI          0\n",
      "Gs           0\n",
      "含水率          0\n",
      "dtype: int64\n"
     ]
    }
   ],
   "source": [
    "print(np.isinf(origin_var.astype(float)).sum())"
   ],
   "metadata": {
    "collapsed": false,
    "pycharm": {
     "name": "#%%\n"
    }
   }
  },
  {
   "cell_type": "code",
   "execution_count": 6,
   "outputs": [],
   "source": [
    "# 处理NaN值\n",
    "origin_var = origin_var.fillna(method='ffill')  # 使用前一个非NaN值进行填充\n",
    "\n",
    "# 处理inf值\n",
    "origin_var = origin_var.replace([np.inf, -np.inf], np.nan)  # 将inf值替换为NaN值\n",
    "origin_var = origin_var.fillna(method='ffill')  # 使用前一个非NaN值进行填充"
   ],
   "metadata": {
    "collapsed": false,
    "pycharm": {
     "name": "#%%\n"
    }
   }
  },
  {
   "cell_type": "code",
   "execution_count": 7,
   "outputs": [],
   "source": [
    "def pca(X):\n",
    "    \"\"\"\n",
    "    X: 输入的数据，每一行表示一个样本\n",
    "    \"\"\"\n",
    "    # 1. 中心化数据\n",
    "    X_mean = np.mean(X, axis=0)\n",
    "    X_centered = X - X_mean\n",
    "\n",
    "    # 2. 计算协方差矩阵\n",
    "    cov = np.cov(X_centered, rowvar=False)\n",
    "\n",
    "    # 3. 计算特征值和特征向量\n",
    "    eigenvalues, eigenvectors = np.linalg.eig(cov)\n",
    "\n",
    "    # 4. 将特征值从大到小排序，选择前k个特征向量\n",
    "    sorted_idx = np.argsort(eigenvalues)[::-1]\n",
    "    k = len(eigenvalues)\n",
    "    explained_variance_ratio = eigenvalues[sorted_idx] / np.sum(eigenvalues)\n",
    "    cumulative_explained_variance_ratio = np.cumsum(explained_variance_ratio)\n",
    "\n",
    "    # 5. 降维\n",
    "    components = eigenvectors[:, sorted_idx[:k]]\n",
    "    X_transformed = np.dot(X_centered, components)\n",
    "\n",
    "    return X_transformed, components, explained_variance_ratio, cumulative_explained_variance_ratio"
   ],
   "metadata": {
    "collapsed": false,
    "pycharm": {
     "name": "#%%\n"
    }
   }
  },
  {
   "cell_type": "code",
   "execution_count": 8,
   "outputs": [],
   "source": [
    "X_transformed, components, explained_variance_ratio, cumulative_explained_variance_ratio = pca(origin_var.values)"
   ],
   "metadata": {
    "collapsed": false,
    "pycharm": {
     "name": "#%%\n"
    }
   }
  },
  {
   "cell_type": "code",
   "execution_count": 9,
   "outputs": [
    {
     "data": {
      "text/plain": "<Figure size 640x480 with 1 Axes>",
      "image/png": "[encoded data removed]"
     },
     "metadata": {},
     "output_type": "display_data"
    }
   ],
   "source": [
    "# 绘制解释方差比例图\n",
    "plt.plot(np.arange(1, len(explained_variance_ratio) + 1), cumulative_explained_variance_ratio, marker='o')\n",
    "plt.xlabel('Number of components')\n",
    "plt.ylabel('Cumulative explained variance ratio')\n",
    "plt.show()"
   ],
   "metadata": {
    "collapsed": false,
    "pycharm": {
     "name": "#%%\n"
    }
   }
  },
  {
   "cell_type": "code",
   "execution_count": 10,
   "outputs": [
    {
     "data": {
      "text/plain": "<Figure size 640x480 with 1 Axes>",
      "image/png": "[encoded data removed]"
     },
     "metadata": {},
     "output_type": "display_data"
    }
   ],
   "source": [
    "# 绘制降维后的数据分布图\n",
    "plt.scatter(X_transformed[:, 0], X_transformed[:, 1])\n",
    "plt.xlabel('PC1')\n",
    "plt.ylabel('PC2')\n",
    "plt.show()"
   ],
   "metadata": {
    "collapsed": false,
    "pycharm": {
     "name": "#%%\n"
    }
   }
  },
  {
   "cell_type": "code",
   "execution_count": 11,
   "outputs": [
    {
     "name": "stdout",
     "output_type": "stream",
     "text": [
      "Transformed data:\n",
      " [[ 2.59288112e+00 -2.01742364e-01 -1.55200782e-03 -7.35013398e-02\n",
      "  -3.11960312e-02  2.12770582e-02  1.55625759e-02  1.60577056e-02\n",
      "   2.93003713e-03 -8.98195190e-04 -2.03984193e-03]\n",
      " [ 4.12401985e+00  4.90109520e-01  5.00353886e-01 -1.49786449e-02\n",
      "   2.11515418e-02 -1.26145229e-02 -2.17458486e-02 -2.75752755e-04\n",
      "  -1.93489610e-02 -3.67508902e-05  6.78020876e-04]\n",
      " [ 4.06237067e+00 -1.01273982e+00  9.00893738e-02  4.52878738e-03\n",
      "  -2.24429863e-02  5.84134295e-03  5.13178456e-03 -4.22482859e-03\n",
      "   1.02857687e-02  1.70984387e-03  4.76017353e-04]\n",
      " [ 5.08012599e+00 -7.80484876e-01 -1.46038787e-01 -1.81126233e-01\n",
      "  -1.01961457e-02  1.78944274e-03 -5.23542643e-03  1.56011512e-02\n",
      "  -7.76250753e-03 -3.01591706e-03 -9.60276662e-04]\n",
      " [-2.70307215e-01 -4.43068349e-01  2.65861277e-01 -1.24145484e-01\n",
      "   9.65655693e-03 -7.02295401e-03 -3.23079914e-03  6.19806978e-03\n",
      "  -6.80299320e-03 -1.91131274e-03 -1.53653425e-03]\n",
      " [-3.55192364e-01  4.96752348e-01  3.00009659e-01 -1.03184227e-02\n",
      "  -2.78924811e-02 -6.53705810e-03  1.11592797e-02 -1.17962004e-02\n",
      "   1.00393091e-02 -1.73482735e-03 -1.08525485e-03]\n",
      " [-2.13359103e-01  2.58024482e-01 -5.50137356e-02 -3.86472277e-02\n",
      "  -4.88651022e-02  6.05297390e-03 -8.38801890e-03  1.16289689e-03\n",
      "  -3.40890492e-03 -2.22358161e-03 -3.26726824e-04]\n",
      " [-1.23615945e+01  4.18335180e-02 -2.24474317e-03 -1.05251076e-01\n",
      "   3.83805169e-02 -1.28824462e-02  4.13766612e-03  1.13876910e-02\n",
      "  -1.56755006e-02 -5.86653100e-03 -1.61665745e-03]\n",
      " [-7.67945457e-01 -9.41932671e-02  1.86611454e-01 -3.40778888e-02\n",
      "  -1.33971415e-02 -5.93442307e-03  1.46034452e-02 -5.61763036e-03\n",
      "   8.94241041e-03  7.72706378e-03  5.61687316e-04]\n",
      " [-2.56641376e+00 -2.41527747e-01  5.39392738e-02  1.08346745e-02\n",
      "   1.17337747e-03 -1.25345293e-03 -4.43349298e-03  2.26700918e-03\n",
      "  -7.12859834e-03 -1.41461710e-04  5.84633866e-04]\n",
      " [ 2.37677789e-01 -1.09561316e+00  5.67663856e-02  8.34366898e-02\n",
      "   3.22761831e-02 -1.14086876e-03  3.20999104e-04  1.30900323e-04\n",
      "  -3.49281647e-03  2.62776716e-03  2.31695374e-03]\n",
      " [-2.81079643e-01 -2.00907948e-01  1.22461127e-01  2.74721928e-02\n",
      "   4.18554341e-03 -5.92024717e-03  1.44411781e-02 -7.77771573e-03\n",
      "   7.89600400e-03 -8.09561365e-04  4.15245502e-04]\n",
      " [-4.77563421e-01 -3.89122654e-01 -7.64111697e-02  5.94703454e-02\n",
      "  -4.40221004e-02  1.29506920e-02 -1.75730629e-02  2.56816184e-03\n",
      "  -6.80760388e-03  1.85189660e-03  1.36419886e-03]\n",
      " [ 5.03595042e-01 -6.63897587e-01  1.05851408e-01  5.08704333e-02\n",
      "   4.19666176e-02 -6.50920047e-03 -4.41541104e-03  2.95916629e-03\n",
      "  -1.07752311e-02  1.45419498e-03  2.02642200e-03]\n",
      " [-6.94982193e+00 -9.15448134e-01  5.91090690e-02 -6.76974522e-02\n",
      "   4.62437616e-02  7.47756993e-04 -4.25023596e-02 -3.75823978e-02\n",
      "   1.46999863e-02 -9.56730160e-04  7.34205245e-04]\n",
      " [ 4.96694692e+00 -2.17142338e-01  6.49921023e-02 -1.44348644e-02\n",
      "   4.09476470e-02 -1.29610550e-02  9.36440017e-03 -1.62064790e-04\n",
      "  -3.06176006e-03 -1.83729612e-03  1.34885339e-03]\n",
      " [ 4.34666150e+00  7.12890263e-01 -4.70986850e-02  8.27227496e-02\n",
      "   1.15714640e-02  1.15035269e-02 -5.00301391e-03  4.86327105e-03\n",
      "  -1.85551125e-02  8.54449005e-04 -4.24341165e-03]\n",
      " [ 3.00309482e+00  3.43903064e-01  2.53229308e-01  1.98173028e-02\n",
      "   1.02320983e-02  8.14709725e-03  1.70166160e-02  8.24732412e-03\n",
      "  -1.18698526e-03  2.69851539e-04 -6.44562595e-04]\n",
      " [ 2.07870105e+00  5.43841921e-02 -3.16226694e-02 -2.21585310e-02\n",
      "  -3.70060101e-02  1.88091866e-03  6.27401337e-03 -3.56752595e-03\n",
      "   6.66417407e-03 -1.81850498e-03 -1.61125970e-04]\n",
      " [ 1.15593369e+00 -3.37472941e-01  8.18722055e-02  6.85840563e-02\n",
      "   9.94082258e-03 -2.09191904e-03 -3.48134293e-03 -1.85864685e-03\n",
      "  -4.79013748e-03  1.38547254e-03  1.83534325e-03]\n",
      " [-5.42349537e-01 -6.02513736e-01  6.94584003e-02  1.60359546e-01\n",
      "   2.28089917e-02 -2.64374331e-03  7.78465546e-03 -8.77065817e-03\n",
      "   3.29255700e-03  2.91030621e-03  2.87565547e-03]\n",
      " [ 7.46135250e-01  3.03448628e-01  1.00684217e-01  1.29485191e-01\n",
      "   2.49032425e-02 -2.85837611e-02 -2.94931281e-02  7.31164210e-02\n",
      "   4.15405813e-02 -5.19770893e-03  2.28560638e-03]\n",
      " [-5.65464258e+00  2.65111547e-01  4.06964409e-02 -3.63034186e-01\n",
      "   2.01493809e-02 -2.39419380e-02  3.29930830e-02  1.39705196e-02\n",
      "   4.60125679e-04  2.56324742e-02  8.30771937e-04]\n",
      " [-9.46224689e-01 -1.53723790e-01 -2.46616012e-02 -3.10566100e-03\n",
      "  -9.83439487e-03  9.36807936e-04 -5.13742981e-03  2.54724237e-03\n",
      "  -6.31277671e-03 -1.02549151e-03  6.34551679e-04]\n",
      " [-3.40520681e+00  2.16005460e-01 -2.30262521e-02 -1.87076109e-01\n",
      "   1.25638813e-02 -1.14773563e-02  8.36509078e-03  8.83868300e-03\n",
      "  -7.05774229e-03 -7.31537933e-03 -2.18217201e-03]\n",
      " [-6.32532948e+00 -4.01538417e-01 -1.86148953e-01  2.50156069e-01\n",
      "   4.99420856e-02 -3.86868036e-03  1.71535523e-03 -2.69599642e-03\n",
      "  -1.14908129e-02  5.75732215e-03 -1.49194795e-02]\n",
      " [-5.27682486e+00 -9.66870278e-01 -1.63239284e-01  9.99465608e-02\n",
      "  -7.65612564e-03  1.04715345e-02 -7.50688430e-03  2.89470359e-03\n",
      "  -5.50981005e-03  2.27570379e-03  2.04738151e-03]\n",
      " [ 4.02916999e+00 -1.00875546e+00  1.84185751e-01  2.27720490e-02\n",
      "  -3.90488579e-02 -1.80044306e-02 -5.18856530e-03 -5.09064118e-03\n",
      "  -3.29461506e-03 -7.37134549e-03 -8.87664849e-03]\n",
      " [ 2.53534981e+00 -9.06556924e-01 -8.05355946e-02 -2.60986459e-01\n",
      "  -5.48474278e-03 -4.78719995e-03 -4.93575003e-03  6.38846689e-03\n",
      "   1.00693017e-02 -1.66634139e-03 -3.66854565e-03]\n",
      " [ 1.89132990e+00 -7.61796269e-01 -1.94838315e-01 -5.37164140e-02\n",
      "   1.18748712e-02 -1.23021518e-03  7.24240783e-03  7.34152865e-03\n",
      "  -1.73598766e-03 -2.31532599e-03  2.14209084e-03]\n",
      " [ 4.09852621e-01 -1.00772835e+00  2.13217964e-01  4.44732556e-02\n",
      "   4.88153743e-02 -1.10427660e-03  1.73950245e-02 -6.36086837e-04\n",
      "   3.39574278e-03  9.36643498e-04 -2.84995318e-03]\n",
      " [-6.74023134e-01  4.91138057e-01  1.62189411e-01 -7.51512491e-02\n",
      "   1.01343645e-01  7.52634230e-02 -2.09179888e-02 -4.51003005e-03\n",
      "   3.14220669e-03 -7.19382121e-03  1.99244170e-03]\n",
      " [-1.02852019e+00 -1.66261574e-02 -3.72453786e-02 -3.94901504e-02\n",
      "   1.47530364e-02  8.23060922e-02  1.21479170e-02 -1.56985146e-03\n",
      "   9.48101540e-03 -2.23162974e-03  1.02076454e-04]\n",
      " [-4.28775190e+00 -5.63660757e-01 -4.12958071e-02 -6.76477322e-04\n",
      "  -3.59260362e-02 -3.19530608e-02 -8.78217935e-03  4.64542151e-04\n",
      "   1.70557712e-02 -3.04862523e-03  5.28087362e-04]\n",
      " [-2.96598330e+00  3.18460588e-01  9.02837222e-02  5.79396712e-02\n",
      "  -2.85476533e-02 -7.77799086e-04  6.60951015e-03 -8.65991240e-03\n",
      "   5.61143275e-03 -4.22271101e-04  2.20482146e-04]\n",
      " [-1.04670016e+00  4.73134723e-01  2.90531585e-02  1.08492692e-01\n",
      "  -1.98196566e-02 -1.50550309e-03 -1.00799995e-03 -6.13259597e-03\n",
      "  -2.41889150e-03  1.00889810e-02  3.24722938e-03]\n",
      " [-1.46616916e+01  1.29220861e+00  5.76355878e-02  8.31992539e-02\n",
      "   2.02827617e-03 -1.79716421e-02  9.17009144e-03  1.01645864e-02\n",
      "   1.14712554e-02 -5.89294426e-03 -4.95173238e-04]\n",
      " [-3.23483301e+00 -4.10882767e-01  1.67226184e-01  6.81644870e-02\n",
      "  -9.85261945e-02  1.95884188e-02 -2.50163385e-02  4.44317993e-03\n",
      "   7.25374886e-03  4.03882710e-03 -4.22802504e-04]\n",
      " [-1.59430853e+00  7.28760523e-01  1.13317404e-01 -1.74408909e-01\n",
      "  -4.03255302e-02 -5.29905088e-02 -3.43577788e-02 -3.31848827e-02\n",
      "  -3.64061650e-03 -8.29909559e-03  4.93120630e-04]\n",
      " [-2.50318877e+00  6.20639336e-01  1.78323964e-01 -6.36224791e-02\n",
      "  -9.18489052e-03  9.56346957e-02  6.75718142e-03  7.35231664e-03\n",
      "   7.86043693e-04 -8.65077383e-04 -1.57396843e-03]\n",
      " [-1.28126824e+00  3.32831831e-02 -6.59987713e-02  6.64112519e-02\n",
      "   3.03182025e-02 -5.02763600e-03 -1.51776735e-02  7.58290993e-03\n",
      "  -2.17636854e-02  7.77919635e-05  2.63485498e-03]\n",
      " [-3.93045670e-01  4.05366041e-01 -1.70882680e-02  2.87443649e-02\n",
      "  -3.08773377e-02  1.92231634e-03 -1.81784911e-02  6.50250175e-03\n",
      "  -1.59765737e-02  1.92092887e-02  4.20380739e-03]\n",
      " [ 4.62294851e+00  7.45909917e-01 -3.97964281e-01 -8.81828963e-02\n",
      "   9.39770857e-02  1.60987691e-03 -4.61074641e-02 -2.61705359e-02\n",
      "   3.48852111e-02  1.11691500e-02 -2.73526358e-03]\n",
      " [ 6.67467449e+00  1.21323822e+00 -7.18926460e-03  6.54392338e-02\n",
      "  -3.33441666e-03 -1.03556138e-02 -4.53926156e-03  1.09026705e-02\n",
      "   2.76683898e-03  1.25446479e-02 -9.09267725e-03]\n",
      " [ 3.82581559e+00  1.48681442e-01 -2.67142142e-01 -2.78533735e-02\n",
      "   7.04766528e-02 -1.82451974e-02  1.13047861e-02  8.22358724e-03\n",
      "  -1.38458499e-02 -4.91409963e-03  2.36454617e-03]\n",
      " [ 2.50481726e+00  6.58288795e-02 -1.23575553e-01 -9.02903769e-02\n",
      "  -4.31937291e-02  8.43519080e-03 -3.07697084e-02  1.61308766e-02\n",
      "  -2.18825284e-02 -1.15572012e-03  2.01000447e-05]\n",
      " [ 6.01195373e-01  1.90444849e-01 -7.43506924e-03 -1.02299159e-02\n",
      "   3.72896816e-02 -1.34471671e-02  7.99993402e-03  1.15914871e-03\n",
      "  -7.16884145e-03 -3.10385784e-03  1.07824548e-03]\n",
      " [ 1.01011400e+00  2.87760272e-01  5.02787487e-02  1.42806462e-02\n",
      "  -5.01162062e-02  6.69467521e-03 -1.69383460e-02  6.12123890e-04\n",
      "  -7.17782201e-03  3.32080705e-04  3.80992342e-04]\n",
      " [ 4.57214149e-01 -7.28267753e-02 -3.30534159e-01 -1.86452314e-02\n",
      "  -3.09868205e-03 -1.59671226e-03  1.29902533e-02  2.81670791e-03\n",
      "   1.25243993e-03 -3.79309727e-03  9.25451714e-04]\n",
      " [-2.42448656e+00 -3.59412375e-01 -2.60758119e-01 -4.03083078e-02\n",
      "  -1.39208842e-02  3.13283684e-03  2.66518946e-03  7.42367866e-03\n",
      "  -3.60973354e-03 -2.49629344e-03  2.31079206e-04]\n",
      " [ 1.48729072e-01  5.63316059e-01 -2.99098542e-01  9.95774441e-02\n",
      "   1.68335821e-02 -7.90983964e-03  1.42664278e-02 -4.40012332e-03\n",
      "  -1.38746517e-03 -2.83389927e-03  2.77700432e-03]\n",
      " [-5.20716582e+00 -2.76140168e-02 -2.11948264e-01  1.18428214e-02\n",
      "  -2.36899948e-02  2.64135414e-03  8.41903514e-03  5.91690388e-04\n",
      "   2.03750609e-03 -2.26607647e-03  1.64864321e-04]\n",
      " [ 4.15475344e-01  4.87016958e-01  1.11294297e-01  4.65169410e-02\n",
      "   5.12419355e-02 -1.93508909e-02  1.58574525e-02 -6.91241963e-03\n",
      "  -2.66049874e-03 -2.87245150e-03  1.58789365e-03]\n",
      " [ 2.48963077e+00  5.16006719e-01  1.16368617e-01 -6.20068580e-03\n",
      "  -8.19813977e-03 -9.59019519e-03  1.61773475e-02 -9.62431422e-03\n",
      "   8.41836581e-03 -2.81994747e-03 -4.04065812e-06]\n",
      " [ 2.17463014e+00  3.12122565e-01 -3.40082951e-01 -4.35215534e-02\n",
      "  -4.76078889e-02  4.88827200e-03  3.71499120e-03  3.89342836e-03\n",
      "   1.00207212e-03 -3.31264961e-03  1.90597323e-04]\n",
      " [ 4.29777407e+00  2.22153549e-01  5.45732364e-02 -3.24021155e-02\n",
      "   9.71955706e-03 -1.20112950e-02  2.04462864e-02 -6.54283052e-03\n",
      "   8.40374333e-03 -3.18951357e-03  1.68471365e-04]\n",
      " [ 2.31057841e+00  6.62907417e-01 -2.01116587e-01  1.22847470e-02\n",
      "  -3.94201340e-02  1.93815363e-03  2.74206384e-03 -3.84052085e-03\n",
      "   1.86760938e-03 -1.24856004e-02 -7.72935832e-04]\n",
      " [ 3.34369807e+00  7.37945821e-01  6.43696284e-02  3.37565103e-02\n",
      "   1.61540525e-02 -1.04004283e-02 -7.81658587e-03 -6.25401185e-04\n",
      "  -1.39108237e-02 -1.86422258e-03  1.86533360e-03]\n",
      " [-7.80742289e-01  3.63117620e-01 -1.52416619e-01  8.78711309e-04\n",
      "  -3.24084980e-02  6.14914222e-03  1.82270203e-02 -2.70679357e-02\n",
      "  -9.73443633e-03 -7.02046988e-04  3.04002609e-04]\n",
      " [ 3.94837986e+00  1.29913972e-01  4.86775701e-02 -1.75276213e-02\n",
      "   6.15946179e-03 -1.05065713e-02  2.26801666e-02 -8.56649768e-03\n",
      "   1.13994093e-02 -2.88913796e-03  2.56491535e-04]\n",
      " [ 3.15746708e-01 -3.97559226e-01 -1.14850866e-01  4.14039388e-02\n",
      "  -4.33879438e-02  8.23221408e-03  2.27607107e-03 -1.20785322e-03\n",
      "   5.15453052e-03  1.06678510e-02  2.36848651e-03]\n",
      " [ 2.05027602e+00 -2.60194455e-01 -1.21576423e-01  1.24300808e-01\n",
      "   1.28332366e-02 -4.33027266e-03  2.25632107e-02 -1.14444913e-02\n",
      "   1.22413577e-02  1.55808393e-04  2.61416478e-03]\n",
      " [ 1.60612341e+00 -4.66238630e-01  4.01173970e-02  6.80805417e-02\n",
      "   8.76076672e-03 -1.91929387e-03  5.31136467e-03 -4.71463574e-03\n",
      "   2.16984518e-03  7.46646775e-04  1.70168935e-03]\n",
      " [ 2.03905091e+00  1.50474593e-01 -4.40712012e-02  1.11949476e-01\n",
      "   2.75728892e-02 -5.59753692e-03 -9.83138337e-03  5.84106926e-04\n",
      "  -1.51374765e-02  5.78059382e-04  3.35525792e-03]\n",
      " [-1.33441921e-01  7.28949360e-01 -2.33014533e-02  6.73247920e-02\n",
      "  -4.74571785e-02  1.34191565e-03  5.76153508e-03 -1.03031152e-02\n",
      "   6.81919261e-03 -1.02016504e-03  6.58342314e-04]\n",
      " [ 2.01028829e+00 -9.33827389e-02  6.40232895e-02  5.72490986e-02\n",
      "  -4.21629052e-02  4.61918389e-03  6.11632232e-03 -9.85487552e-03\n",
      "   1.10785058e-02  8.12384191e-04  6.15298646e-04]]\n",
      "Components:\n",
      " [[-1.04707627e-03 -2.94956662e-03 -9.62537010e-03 -2.87548900e-02\n",
      "   1.18320953e-02 -4.75245463e-02  2.27720922e-02  2.71578760e-02\n",
      "  -5.41793706e-02  1.42589382e-01 -9.85976104e-01]\n",
      " [-4.21774330e-03 -7.78700202e-03 -2.06348763e-02 -1.19703836e-01\n",
      "   4.74996123e-02 -2.32429323e-01 -1.58839818e-01  7.60630893e-01\n",
      "   5.64967726e-01 -7.63060776e-02 -9.30431900e-03]\n",
      " [-2.05120115e-03 -3.05590317e-03 -1.42276310e-02 -8.78269720e-02\n",
      "   1.78861299e-03 -9.42059116e-02  1.14623956e-01  1.12883437e-01\n",
      "  -4.49534638e-02  9.65011565e-01  1.55058193e-01]\n",
      " [-7.17478226e-03 -2.16018919e-02 -3.22178388e-02 -2.28900406e-01\n",
      "  -1.21401691e-01 -2.60060357e-01  5.40875725e-01  4.24576205e-01\n",
      "  -5.92002446e-01 -1.95526281e-01  4.65812159e-02]\n",
      " [-1.88355555e-02 -4.94009710e-02 -1.26074599e-01 -6.98035464e-01\n",
      "   1.40774243e-01 -5.31948453e-01 -2.44702696e-01 -3.57459736e-01\n",
      "   2.21286699e-02 -4.99059007e-02  2.51547030e-02]\n",
      " [-1.52539810e-02 -3.16003057e-02 -8.46305095e-02 -5.75164939e-01\n",
      "   3.10869204e-01  7.30407186e-01  1.32154318e-01  1.06040501e-01\n",
      "   4.20640490e-02 -7.34741745e-03 -1.11654375e-02]\n",
      " [-9.96839903e-01  7.58393322e-02 -5.12122252e-03  2.30417880e-02\n",
      "   3.68807943e-04  7.55669483e-05 -2.56327139e-04 -9.78061343e-04\n",
      "  -4.20891665e-04  2.37035939e-04  2.35076275e-04]\n",
      " [-2.18069812e-02 -1.76473625e-01  9.72791642e-01 -1.46794178e-01\n",
      "   6.76686951e-03 -1.01187106e-02 -1.76676424e-02 -1.97348460e-03\n",
      "  -4.98945766e-03  2.11307225e-03 -3.97820895e-03]\n",
      " [-7.14213409e-02 -9.78986285e-01 -1.64804321e-01  9.55669497e-02\n",
      "   8.18109898e-03  9.28830100e-03 -3.86340655e-03  2.21192517e-03\n",
      "  -1.85117654e-04  3.77688607e-03  2.00481360e-03]\n",
      " [ 8.30426468e-03  2.46798302e-02  3.97946614e-02  2.73314661e-01\n",
      "   9.26544500e-01 -1.96109809e-01  1.43520535e-01  6.40963543e-03\n",
      "  -6.93867908e-02 -1.90147425e-02  1.66836684e-02]\n",
      " [ 1.63154250e-03  9.89254495e-03 -9.49347574e-03  2.74510231e-02\n",
      "   8.83606391e-02  1.10001576e-01 -7.55179905e-01  2.97695468e-01\n",
      "  -5.64171657e-01  3.79851882e-02  2.22716924e-02]]\n",
      "Explained variance ratio:\n",
      " [9.76258702e-01 2.11386481e-02 1.80156458e-03 6.35163010e-04\n",
      " 9.10317519e-05 3.29213883e-05 1.70734635e-05 1.29185176e-05\n",
      " 8.95383314e-06 2.41708972e-06 6.05971192e-07]\n",
      "Cumulative explained variance ratio:\n",
      " [0.9762587  0.99739735 0.99919891 0.99983408 0.99992511 0.99995803\n",
      " 0.9999751  0.99998802 0.99999698 0.99999939 1.        ]\n"
     ]
    }
   ],
   "source": [
    "print(\"Transformed data:\\n\", X_transformed)\n",
    "print(\"Components:\\n\", components)\n",
    "print(\"Explained variance ratio:\\n\", explained_variance_ratio)\n",
    "print(\"Cumulative explained variance ratio:\\n\", cumulative_explained_variance_ratio)"
   ],
   "metadata": {
    "collapsed": false,
    "pycharm": {
     "name": "#%%\n"
    }
   }
  },
  {
   "cell_type": "code",
   "execution_count": null,
   "outputs": [],
   "source": [],
   "metadata": {
    "collapsed": false,
    "pycharm": {
     "name": "#%%\n"
    }
   }
  }
 ],
 "metadata": {
  "kernelspec": {
   "display_name": "Python 3",
   "language": "python",
   "name": "python3"
  },
  "language_info": {
   "codemirror_mode": {
    "name": "ipython",
    "version": 2
   },
   "file_extension": ".py",
   "mimetype": "text/x-python",
   "name": "python",
   "nbconvert_exporter": "python",
   "pygments_lexer": "ipython2",
   "version": "2.7.6"
  }
 },
 "nbformat": 4,
 "nbformat_minor": 0
}