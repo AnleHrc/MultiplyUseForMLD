{
 "cells": [
  {
   "cell_type": "code",
   "execution_count": 1,
   "outputs": [],
   "source": [
    "import pandas as pd\n",
    "import numpy as np"
   ],
   "metadata": {
    "collapsed": false,
    "pycharm": {
     "name": "#%%\n"
    }
   }
  },
  {
   "cell_type": "code",
   "execution_count": 6,
   "outputs": [],
   "source": [
    "# 读取数据\n",
    "data = pd.read_excel('../Resource/ExperimentDataBase/Spad_various_index.xlsx')"
   ],
   "metadata": {
    "collapsed": false,
    "pycharm": {
     "name": "#%%\n"
    }
   }
  },
  {
   "cell_type": "code",
   "execution_count": 7,
   "outputs": [],
   "source": [
    "# 计算决策矩阵X和归一化矩阵Y\n",
    "X = data.iloc[:, :-1].values\n",
    "Y = np.apply_along_axis(lambda x: x / np.sum(x), 0, X)"
   ],
   "metadata": {
    "collapsed": false,
    "pycharm": {
     "name": "#%%\n"
    }
   }
  },
  {
   "cell_type": "code",
   "execution_count": 8,
   "outputs": [],
   "source": [
    "# 计算信息熵和权重\n",
    "m, n = Y.shape\n",
    "E = (-1 / np.log(m)) * np.sum(Y * np.log(Y), axis=0)\n",
    "W = (1 - E) / np.sum(1 - E)"
   ],
   "metadata": {
    "collapsed": false,
    "pycharm": {
     "name": "#%%\n"
    }
   }
  },
  {
   "cell_type": "code",
   "execution_count": 9,
   "outputs": [],
   "source": [
    "# 归一化处理\n",
    "W = W / np.sum(W)"
   ],
   "metadata": {
    "collapsed": false,
    "pycharm": {
     "name": "#%%\n"
    }
   }
  },
  {
   "cell_type": "code",
   "execution_count": 10,
   "outputs": [
    {
     "name": "stdout",
     "output_type": "stream",
     "text": [
      "指标1的权重为0.118\n",
      "指标2的权重为0.141\n",
      "指标3的权重为0.168\n",
      "指标4的权重为0.150\n",
      "指标5的权重为0.147\n",
      "指标6的权重为0.140\n",
      "指标7的权重为0.008\n",
      "指标8的权重为0.027\n",
      "指标9的权重为0.039\n",
      "指标10的权重为0.061\n"
     ]
    }
   ],
   "source": [
    "# 输出结果\n",
    "for i, w in enumerate(W):\n",
    "    print(f\"指标{i+1}的权重为{w:.3f}\")"
   ],
   "metadata": {
    "collapsed": false,
    "pycharm": {
     "name": "#%%\n"
    }
   }
  },
  {
   "cell_type": "code",
   "execution_count": null,
   "outputs": [],
   "source": [],
   "metadata": {
    "collapsed": false,
    "pycharm": {
     "name": "#%%\n"
    }
   }
  }
 ],
 "metadata": {
  "kernelspec": {
   "display_name": "Python 3",
   "language": "python",
   "name": "python3"
  },
  "language_info": {
   "codemirror_mode": {
    "name": "ipython",
    "version": 2
   },
   "file_extension": ".py",
   "mimetype": "text/x-python",
   "name": "python",
   "nbconvert_exporter": "python",
   "pygments_lexer": "ipython2",
   "version": "2.7.6"
  }
 },
 "nbformat": 4,
 "nbformat_minor": 0
}