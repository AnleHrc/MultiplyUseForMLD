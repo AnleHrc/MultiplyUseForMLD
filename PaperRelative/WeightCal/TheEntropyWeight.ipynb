{
 "cells": [
  {
   "cell_type": "code",
   "execution_count": 15,
   "outputs": [],
   "source": [
    "import pandas as pd\n",
    "import numpy as np\n",
    "from sklearn.preprocessing import MinMaxScaler"
   ],
   "metadata": {
    "collapsed": false,
    "pycharm": {
     "name": "#%%\n"
    }
   }
  },
  {
   "cell_type": "markdown",
   "source": [
    "# 熵权法计算权重"
   ],
   "metadata": {
    "collapsed": false,
    "pycharm": {
     "name": "#%% md\n"
    }
   }
  },
  {
   "cell_type": "code",
   "execution_count": 16,
   "outputs": [],
   "source": [
    "# 读取数据\n",
    "data = pd.read_excel('../Resource/ExperimentDataBase/Spad_Dta_GRX.xlsx')"
   ],
   "metadata": {
    "collapsed": false,
    "pycharm": {
     "name": "#%%\n"
    }
   }
  },
  {
   "cell_type": "code",
   "execution_count": 17,
   "outputs": [],
   "source": [
    "data_n_data = data[['SPAD','AGB','LAI']].values"
   ],
   "metadata": {
    "collapsed": false,
    "pycharm": {
     "name": "#%%\n"
    }
   }
  },
  {
   "cell_type": "code",
   "execution_count": 18,
   "outputs": [
    {
     "data": {
      "text/plain": "        SPAD       AGB       LAI        Pn           Ci        Tr        Gs\n0  37.466667  1.708889  2.917709  16.573453  263.358997  3.381668  0.178455\n1  35.991667  2.063889  2.054150  22.759493  268.242120  5.887681  0.395477\n2  35.941667  1.997500  3.599002  16.718943  220.002423  4.542420  0.274608\n3  34.941667  1.362222  3.320240  18.022922  196.736997  3.629510  0.170752\n4  40.300000  1.965000  3.309667  17.883205  215.082727  4.303128  0.226866",
      "text/html": "<div>\n<style scoped>\n    .dataframe tbody tr th:only-of-type {\n        vertical-align: middle;\n    }\n\n    .dataframe tbody tr th {\n        vertical-align: top;\n    }\n\n    .dataframe thead th {\n        text-align: right;\n    }\n</style>\n<table border=\"1\" class=\"dataframe\">\n  <thead>\n    <tr style=\"text-align: right;\">\n      <th></th>\n      <th>SPAD</th>\n      <th>AGB</th>\n      <th>LAI</th>\n      <th>Pn</th>\n      <th>Ci</th>\n      <th>Tr</th>\n      <th>Gs</th>\n    </tr>\n  </thead>\n  <tbody>\n    <tr>\n      <th>0</th>\n      <td>37.466667</td>\n      <td>1.708889</td>\n      <td>2.917709</td>\n      <td>16.573453</td>\n      <td>263.358997</td>\n      <td>3.381668</td>\n      <td>0.178455</td>\n    </tr>\n    <tr>\n      <th>1</th>\n      <td>35.991667</td>\n      <td>2.063889</td>\n      <td>2.054150</td>\n      <td>22.759493</td>\n      <td>268.242120</td>\n      <td>5.887681</td>\n      <td>0.395477</td>\n    </tr>\n    <tr>\n      <th>2</th>\n      <td>35.941667</td>\n      <td>1.997500</td>\n      <td>3.599002</td>\n      <td>16.718943</td>\n      <td>220.002423</td>\n      <td>4.542420</td>\n      <td>0.274608</td>\n    </tr>\n    <tr>\n      <th>3</th>\n      <td>34.941667</td>\n      <td>1.362222</td>\n      <td>3.320240</td>\n      <td>18.022922</td>\n      <td>196.736997</td>\n      <td>3.629510</td>\n      <td>0.170752</td>\n    </tr>\n    <tr>\n      <th>4</th>\n      <td>40.300000</td>\n      <td>1.965000</td>\n      <td>3.309667</td>\n      <td>17.883205</td>\n      <td>215.082727</td>\n      <td>4.303128</td>\n      <td>0.226866</td>\n    </tr>\n  </tbody>\n</table>\n</div>"
     },
     "execution_count": 18,
     "metadata": {},
     "output_type": "execute_result"
    }
   ],
   "source": [
    "data.head()"
   ],
   "metadata": {
    "collapsed": false,
    "pycharm": {
     "name": "#%%\n"
    }
   }
  },
  {
   "cell_type": "code",
   "execution_count": 19,
   "outputs": [],
   "source": [
    "def entropy_weight(matrix):\n",
    "    \"\"\"\n",
    "    计算熵权法权重\n",
    "    :param matrix: 决策矩阵，shape为(m, n)，m为样本数，n为指标数\n",
    "    :return: 各指标的权重，shape为(n,)\n",
    "    \"\"\"\n",
    "    m, n = matrix.shape\n",
    "    # 使用归一化处理\n",
    "    norm_matrix = (matrix - matrix.min(axis=0)) / (matrix.max(axis=0) - matrix.min(axis=0))\n",
    "    #print(norm_matrix)\n",
    "    # 计算信息熵\n",
    "    norm_matrix[norm_matrix == 0] = 1e-10 # 将零值替换为一个较小的非零值\n",
    "    entropy = - np.sum(norm_matrix * np.log(norm_matrix), axis=0)\n",
    "    print(entropy)\n",
    "    # 计算权重\n",
    "    weight = (1 - entropy) / np.sum(1 - entropy)\n",
    "    return weight"
   ],
   "metadata": {
    "collapsed": false,
    "pycharm": {
     "name": "#%%\n"
    }
   }
  },
  {
   "cell_type": "markdown",
   "source": [
    "### 第一种归一化方式使用最大值和最小值进行缩放，通过除以最大值和最小值之间的差，将数据缩放到0到1之间，即：\n",
    "- Xnorm = X-Xmin / Xmax - Xmin\n",
    "- 其中x 是原始数据，Xnorm 是归一化后的数据，Xmin 和 Xmax  分别是该列的最小值和最大值。\n",
    "### 第二种归一化方式是将每一列数据除以该列数据的和，从而将数据缩放到0到1之间，即：\n",
    "- Xnorm  = X / Σ(i=1->n)Xi\n",
    "- 其中 x 是原始数据， Xnorm 是归一化后的数据，n 是该列数据的数量。\n",
    "> 第一种归一化方式将每个特征的范围缩放到相同的区间，但是可能会受到极值的影响。第二种归一化方式则保证了每个特征的和为1，不受极值的影响，但是可能会受到各特征数量的影响。"
   ],
   "metadata": {
    "collapsed": false,
    "pycharm": {
     "name": "#%% md\n"
    }
   }
  },
  {
   "cell_type": "code",
   "execution_count": 20,
   "outputs": [],
   "source": [
    "# 计算决策矩阵X和归一化矩阵Y\n",
    "# X = data_n_data.iloc[:, :].values\n",
    "# Y = np.apply_along_axis(lambda x: x / np.sum(x), 0, X)"
   ],
   "metadata": {
    "collapsed": false,
    "pycharm": {
     "name": "#%%\n"
    }
   }
  },
  {
   "cell_type": "code",
   "execution_count": 21,
   "outputs": [],
   "source": [
    "# 计算信息熵和权重\n",
    "# m, n = Y.shape\n",
    "# E = (-1 / np.log(m)) * np.sum(Y * np.log(Y), axis=0)\n",
    "# W = (1 - E) / np.sum(1 - E)"
   ],
   "metadata": {
    "collapsed": false,
    "pycharm": {
     "name": "#%%\n"
    }
   }
  },
  {
   "cell_type": "code",
   "execution_count": 22,
   "outputs": [],
   "source": [
    "# 归一化处理\n",
    "# W = W / np.sum(W)"
   ],
   "metadata": {
    "collapsed": false,
    "pycharm": {
     "name": "#%%\n"
    }
   }
  },
  {
   "cell_type": "code",
   "execution_count": 23,
   "outputs": [],
   "source": [
    "# 输出结果\n",
    "# for i, w in enumerate(W):\n",
    "#     print(f\"第{i+1}列的权重为{w:.3f}\")"
   ],
   "metadata": {
    "collapsed": false,
    "pycharm": {
     "name": "#%%\n"
    }
   }
  },
  {
   "cell_type": "code",
   "execution_count": 24,
   "outputs": [
    {
     "name": "stdout",
     "output_type": "stream",
     "text": [
      "[20.80267728 16.78550941 19.11857991]\n",
      "[0.36871848 0.29392031 0.33736121]\n"
     ]
    }
   ],
   "source": [
    "# 计算指标权重\n",
    "weights = entropy_weight(data_n_data)\n",
    "print(weights)"
   ],
   "metadata": {
    "collapsed": false,
    "pycharm": {
     "name": "#%%\n"
    }
   }
  },
  {
   "cell_type": "code",
   "execution_count": 25,
   "outputs": [
    {
     "name": "stdout",
     "output_type": "stream",
     "text": [
      "指标权重：\n",
      "SPAD: 0.369\n",
      "AGB: 0.294\n",
      "LAI: 0.337\n"
     ]
    }
   ],
   "source": [
    "# 输出各指标权重\n",
    "print(\"指标权重：\")\n",
    "for i in range(len(weights)):\n",
    "    print(\"{}: {:.3f}\".format(data.columns[i], weights[i]))"
   ],
   "metadata": {
    "collapsed": false,
    "pycharm": {
     "name": "#%%\n"
    }
   }
  },
  {
   "cell_type": "code",
   "execution_count": 12,
   "outputs": [],
   "source": [
    "# 数据归一化 (极差变换法)\n",
    "from sklearn.preprocessing import MinMaxScaler\n",
    "scaler = MinMaxScaler(feature_range=(0,1))\n",
    "scaled =scaler.fit_transform(data_n_data)"
   ],
   "metadata": {
    "collapsed": false,
    "pycharm": {
     "name": "#%%\n"
    }
   }
  },
  {
   "cell_type": "code",
   "execution_count": 13,
   "outputs": [],
   "source": [
    "import torch\n",
    "device =torch.device(\"cuda\" if torch.cuda.is_available() else \"cpu\")\n",
    "var =torch.FloatTensor(scaled).to(device)"
   ],
   "metadata": {
    "collapsed": false,
    "pycharm": {
     "name": "#%%\n"
    }
   }
  },
  {
   "cell_type": "code",
   "execution_count": 14,
   "outputs": [
    {
     "name": "stdout",
     "output_type": "stream",
     "text": [
      "tensor(0.4538)\n",
      "tensor(0.3918)\n",
      "tensor(0.5515)\n",
      "tensor(0.3967)\n",
      "tensor(0.5894)\n",
      "tensor(0.5029)\n",
      "tensor(0.4330)\n",
      "tensor(0.8743)\n",
      "tensor(0.5306)\n",
      "tensor(0.6449)\n",
      "tensor(0.6123)\n",
      "tensor(0.5273)\n",
      "tensor(0.5847)\n",
      "tensor(0.6492)\n",
      "tensor(0.7796)\n",
      "tensor(0.3930)\n",
      "tensor(0.2138)\n",
      "tensor(0.4394)\n",
      "tensor(0.4436)\n",
      "tensor(0.5477)\n",
      "tensor(0.6325)\n",
      "tensor(0.4362)\n",
      "tensor(0.6238)\n",
      "tensor(0.5464)\n",
      "tensor(0.5278)\n",
      "tensor(0.7501)\n",
      "tensor(0.7712)\n",
      "tensor(0.5358)\n",
      "tensor(0.5120)\n",
      "tensor(0.4967)\n",
      "tensor(0.6090)\n",
      "tensor(0.4661)\n",
      "tensor(0.5084)\n",
      "tensor(0.6536)\n",
      "tensor(0.5276)\n",
      "tensor(0.4204)\n",
      "tensor(0.7140)\n",
      "tensor(0.6387)\n",
      "tensor(0.4124)\n",
      "tensor(0.4579)\n",
      "tensor(0.4565)\n",
      "tensor(0.3979)\n",
      "tensor(0.1076)\n",
      "tensor(0.0240)\n",
      "tensor(0.2599)\n",
      "tensor(0.3414)\n",
      "tensor(0.4392)\n",
      "tensor(0.4184)\n",
      "tensor(0.4445)\n",
      "tensor(0.5751)\n",
      "tensor(0.3153)\n",
      "tensor(0.6061)\n",
      "tensor(0.4725)\n",
      "tensor(0.4055)\n",
      "tensor(0.2754)\n",
      "tensor(0.3438)\n",
      "tensor(0.2547)\n",
      "tensor(0.2885)\n",
      "tensor(0.4378)\n",
      "tensor(0.3635)\n",
      "tensor(0.4941)\n",
      "tensor(0.4441)\n",
      "tensor(0.5427)\n",
      "tensor(0.3882)\n",
      "tensor(0.3723)\n",
      "tensor(0.4976)\n"
     ]
    }
   ],
   "source": [
    "# 计算CGMIcv(综合长势检测指标)\n",
    "# 定义计算公式函数\n",
    "# 通过变异系数法计算的权重\n",
    "weight_data = weights\n",
    "\n",
    "#将numpy arry 转换为 Tensor(张量)\n",
    "weight_data = torch.FloatTensor(weight_data).to(device)\n",
    "\n",
    "cgmicv = var*weight_data\n",
    "\n",
    "#最终结果\n",
    "def finallyResult(data):\n",
    "    resultArray = {}\n",
    "    per_sum = 0\n",
    "    for i in range(len(cgmicv)):\n",
    "        for j in range(len(cgmicv[i])):\n",
    "            per_sum = per_sum+cgmicv[i][j]\n",
    "            # print(\"per_sum\",per_sum)\n",
    "        resultArray[i] = per_sum\n",
    "        per_sum = 0\n",
    "    return resultArray\n",
    "\n",
    "dataS = finallyResult(cgmicv)\n",
    "# print(dataS)\n",
    "\n",
    "for i in range(len(dataS)):\n",
    "    print(dataS[i])"
   ],
   "metadata": {
    "collapsed": false,
    "pycharm": {
     "name": "#%%\n"
    }
   }
  }
 ],
 "metadata": {
  "kernelspec": {
   "display_name": "Python 3",
   "language": "python",
   "name": "python3"
  },
  "language_info": {
   "codemirror_mode": {
    "name": "ipython",
    "version": 2
   },
   "file_extension": ".py",
   "mimetype": "text/x-python",
   "name": "python",
   "nbconvert_exporter": "python",
   "pygments_lexer": "ipython2",
   "version": "2.7.6"
  }
 },
 "nbformat": 4,
 "nbformat_minor": 0
}