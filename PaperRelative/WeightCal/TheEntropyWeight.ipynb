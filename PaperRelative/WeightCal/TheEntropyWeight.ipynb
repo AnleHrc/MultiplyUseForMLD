{
 "cells": [
  {
   "cell_type": "code",
   "execution_count": 1,
   "outputs": [],
   "source": [
    "import pandas as pd\n",
    "import numpy as np"
   ],
   "metadata": {
    "collapsed": false,
    "pycharm": {
     "name": "#%%\n"
    }
   }
  },
  {
   "cell_type": "markdown",
   "source": [
    "# 熵权法计算权重"
   ],
   "metadata": {
    "collapsed": false,
    "pycharm": {
     "name": "#%% md\n"
    }
   }
  },
  {
   "cell_type": "code",
   "execution_count": 2,
   "outputs": [
    {
     "data": {
      "text/plain": "        SPAD       AGB       LAI        Pn           Ci        Tr        Gs\n0  37.466667  1.708889  2.917709  16.573453  263.358997  3.381668  0.178455\n1  35.991667  2.063889  2.054150  22.759493  268.242120  5.887681  0.395477\n2  35.941667  1.997500  3.599002  16.718943  220.002423  4.542420  0.274608\n3  34.941667  1.362222  3.320240  18.022922  196.736997  3.629510  0.170752\n4  40.300000  1.965000  3.309667  17.883205  215.082727  4.303128  0.226866",
      "text/html": "<div>\n<style scoped>\n    .dataframe tbody tr th:only-of-type {\n        vertical-align: middle;\n    }\n\n    .dataframe tbody tr th {\n        vertical-align: top;\n    }\n\n    .dataframe thead th {\n        text-align: right;\n    }\n</style>\n<table border=\"1\" class=\"dataframe\">\n  <thead>\n    <tr style=\"text-align: right;\">\n      <th></th>\n      <th>SPAD</th>\n      <th>AGB</th>\n      <th>LAI</th>\n      <th>Pn</th>\n      <th>Ci</th>\n      <th>Tr</th>\n      <th>Gs</th>\n    </tr>\n  </thead>\n  <tbody>\n    <tr>\n      <th>0</th>\n      <td>37.466667</td>\n      <td>1.708889</td>\n      <td>2.917709</td>\n      <td>16.573453</td>\n      <td>263.358997</td>\n      <td>3.381668</td>\n      <td>0.178455</td>\n    </tr>\n    <tr>\n      <th>1</th>\n      <td>35.991667</td>\n      <td>2.063889</td>\n      <td>2.054150</td>\n      <td>22.759493</td>\n      <td>268.242120</td>\n      <td>5.887681</td>\n      <td>0.395477</td>\n    </tr>\n    <tr>\n      <th>2</th>\n      <td>35.941667</td>\n      <td>1.997500</td>\n      <td>3.599002</td>\n      <td>16.718943</td>\n      <td>220.002423</td>\n      <td>4.542420</td>\n      <td>0.274608</td>\n    </tr>\n    <tr>\n      <th>3</th>\n      <td>34.941667</td>\n      <td>1.362222</td>\n      <td>3.320240</td>\n      <td>18.022922</td>\n      <td>196.736997</td>\n      <td>3.629510</td>\n      <td>0.170752</td>\n    </tr>\n    <tr>\n      <th>4</th>\n      <td>40.300000</td>\n      <td>1.965000</td>\n      <td>3.309667</td>\n      <td>17.883205</td>\n      <td>215.082727</td>\n      <td>4.303128</td>\n      <td>0.226866</td>\n    </tr>\n  </tbody>\n</table>\n</div>"
     },
     "execution_count": 2,
     "metadata": {},
     "output_type": "execute_result"
    }
   ],
   "source": [
    "# 读取数据\n",
    "data = pd.read_excel('../Resource/ExperimentDataBase/Spad_Dta_GRX.xlsx')\n",
    "data.head()"
   ],
   "metadata": {
    "collapsed": false,
    "pycharm": {
     "name": "#%%\n"
    }
   }
  },
  {
   "cell_type": "code",
   "execution_count": 3,
   "outputs": [],
   "source": [
    "data_n_data = data[['SPAD','AGB','LAI','Ci']]"
   ],
   "metadata": {
    "collapsed": false,
    "pycharm": {
     "name": "#%%\n"
    }
   }
  },
  {
   "cell_type": "code",
   "execution_count": 4,
   "outputs": [],
   "source": [
    "# 计算决策矩阵X和归一化矩阵Y\n",
    "X = data_n_data.iloc[:, :].values\n",
    "Y = np.apply_along_axis(lambda x: x / np.sum(x), 0, X)"
   ],
   "metadata": {
    "collapsed": false,
    "pycharm": {
     "name": "#%%\n"
    }
   }
  },
  {
   "cell_type": "code",
   "execution_count": 5,
   "outputs": [],
   "source": [
    "# 计算信息熵和权重\n",
    "m, n = Y.shape\n",
    "E = (-1 / np.log(m)) * np.sum(Y * np.log(Y), axis=0)\n",
    "W = (1 - E) / np.sum(1 - E)"
   ],
   "metadata": {
    "collapsed": false,
    "pycharm": {
     "name": "#%%\n"
    }
   }
  },
  {
   "cell_type": "code",
   "execution_count": 6,
   "outputs": [],
   "source": [
    "# 归一化处理\n",
    "W = W / np.sum(W)"
   ],
   "metadata": {
    "collapsed": false,
    "pycharm": {
     "name": "#%%\n"
    }
   }
  },
  {
   "cell_type": "code",
   "execution_count": 7,
   "outputs": [
    {
     "name": "stdout",
     "output_type": "stream",
     "text": [
      "第1列的权重为0.060\n",
      "第2列的权重为0.372\n",
      "第3列的权重为0.315\n",
      "第4列的权重为0.252\n"
     ]
    }
   ],
   "source": [
    "# 输出结果\n",
    "for i, w in enumerate(W):\n",
    "    print(f\"第{i+1}列的权重为{w:.3f}\")"
   ],
   "metadata": {
    "collapsed": false,
    "pycharm": {
     "name": "#%%\n"
    }
   }
  },
  {
   "cell_type": "code",
   "execution_count": 7,
   "outputs": [],
   "source": [],
   "metadata": {
    "collapsed": false,
    "pycharm": {
     "name": "#%%\n"
    }
   }
  }
 ],
 "metadata": {
  "kernelspec": {
   "display_name": "Python 3",
   "language": "python",
   "name": "python3"
  },
  "language_info": {
   "codemirror_mode": {
    "name": "ipython",
    "version": 2
   },
   "file_extension": ".py",
   "mimetype": "text/x-python",
   "name": "python",
   "nbconvert_exporter": "python",
   "pygments_lexer": "ipython2",
   "version": "2.7.6"
  }
 },
 "nbformat": 4,
 "nbformat_minor": 0
}