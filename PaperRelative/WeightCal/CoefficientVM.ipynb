{
 "cells": [
  {
   "cell_type": "code",
   "execution_count": 1,
   "outputs": [],
   "source": [
    "import pandas as pd\n",
    "from matplotlib import pyplot as plt\n",
    "import numpy as np"
   ],
   "metadata": {
    "collapsed": false,
    "pycharm": {
     "name": "#%%\n"
    }
   }
  },
  {
   "cell_type": "code",
   "execution_count": 2,
   "outputs": [],
   "source": [
    "datatest = pd.read_excel('Resource/data3-28.xlsx')"
   ],
   "metadata": {
    "collapsed": false,
    "pycharm": {
     "name": "#%%\n"
    }
   }
  },
  {
   "cell_type": "code",
   "execution_count": 3,
   "outputs": [
    {
     "data": {
      "text/plain": "  Unnamed: 0       SPAD       AGB       LAI        Pn           Ci        Tr  \\\n0       B0-1  37.466667  1.708889  2.917709  16.573453  263.358997  3.381668   \n1       B0-2  35.991667  2.063889  2.054150  22.759493  268.242120  5.887681   \n2       B0-3  35.941667  1.997500  3.599002  16.718943  220.002423  4.542420   \n3       B1-1  34.941667  1.362222  3.320240  18.022922  196.736997  3.629510   \n4       B1-2  40.300000  1.965000  3.309667  17.883205  215.082727  4.303128   \n\n         Gs  \n0  0.178455  \n1  0.395477  \n2  0.274608  \n3  0.170752  \n4  0.226866  ",
      "text/html": "<div>\n<style scoped>\n    .dataframe tbody tr th:only-of-type {\n        vertical-align: middle;\n    }\n\n    .dataframe tbody tr th {\n        vertical-align: top;\n    }\n\n    .dataframe thead th {\n        text-align: right;\n    }\n</style>\n<table border=\"1\" class=\"dataframe\">\n  <thead>\n    <tr style=\"text-align: right;\">\n      <th></th>\n      <th>Unnamed: 0</th>\n      <th>SPAD</th>\n      <th>AGB</th>\n      <th>LAI</th>\n      <th>Pn</th>\n      <th>Ci</th>\n      <th>Tr</th>\n      <th>Gs</th>\n    </tr>\n  </thead>\n  <tbody>\n    <tr>\n      <th>0</th>\n      <td>B0-1</td>\n      <td>37.466667</td>\n      <td>1.708889</td>\n      <td>2.917709</td>\n      <td>16.573453</td>\n      <td>263.358997</td>\n      <td>3.381668</td>\n      <td>0.178455</td>\n    </tr>\n    <tr>\n      <th>1</th>\n      <td>B0-2</td>\n      <td>35.991667</td>\n      <td>2.063889</td>\n      <td>2.054150</td>\n      <td>22.759493</td>\n      <td>268.242120</td>\n      <td>5.887681</td>\n      <td>0.395477</td>\n    </tr>\n    <tr>\n      <th>2</th>\n      <td>B0-3</td>\n      <td>35.941667</td>\n      <td>1.997500</td>\n      <td>3.599002</td>\n      <td>16.718943</td>\n      <td>220.002423</td>\n      <td>4.542420</td>\n      <td>0.274608</td>\n    </tr>\n    <tr>\n      <th>3</th>\n      <td>B1-1</td>\n      <td>34.941667</td>\n      <td>1.362222</td>\n      <td>3.320240</td>\n      <td>18.022922</td>\n      <td>196.736997</td>\n      <td>3.629510</td>\n      <td>0.170752</td>\n    </tr>\n    <tr>\n      <th>4</th>\n      <td>B1-2</td>\n      <td>40.300000</td>\n      <td>1.965000</td>\n      <td>3.309667</td>\n      <td>17.883205</td>\n      <td>215.082727</td>\n      <td>4.303128</td>\n      <td>0.226866</td>\n    </tr>\n  </tbody>\n</table>\n</div>"
     },
     "execution_count": 3,
     "metadata": {},
     "output_type": "execute_result"
    }
   ],
   "source": [
    "datatest.head()"
   ],
   "metadata": {
    "collapsed": false,
    "pycharm": {
     "name": "#%%\n"
    }
   }
  },
  {
   "cell_type": "code",
   "execution_count": 4,
   "outputs": [],
   "source": [
    "# 读取对应指标\n",
    "var_origin = datatest[['SPAD','AGB','LAI','Ci']]"
   ],
   "metadata": {
    "collapsed": false,
    "pycharm": {
     "name": "#%%\n"
    }
   }
  },
  {
   "cell_type": "code",
   "execution_count": 5,
   "outputs": [],
   "source": [
    "# 变异系数法\n",
    "def cv(data):\n",
    "    mean_val = torch.mean(data,dim=0)\n",
    "    std_val = torch.std(data,dim=0)\n",
    "    cv_val = (std_val / mean_val)\n",
    "    return cv"
   ],
   "metadata": {
    "collapsed": false,
    "pycharm": {
     "name": "#%%\n"
    }
   }
  },
  {
   "cell_type": "code",
   "execution_count": 6,
   "outputs": [],
   "source": [
    "# 变异系数总和\n",
    "def sum_cv(data):\n",
    "    sum_var = {}\n",
    "    mean_val = np.mean(data,axis=0)\n",
    "    std_val = np.std(data,axis=0)\n",
    "    cv_val = (std_val / mean_val)\n",
    "    for i,var_name in enumerate(data.columns):\n",
    "        sum_var[var_name] =cv_val[i]\n",
    "    return sum_var"
   ],
   "metadata": {
    "collapsed": false,
    "pycharm": {
     "name": "#%%\n"
    }
   }
  },
  {
   "cell_type": "code",
   "execution_count": 7,
   "outputs": [],
   "source": [
    "# 声明变异系数\n",
    "cv_var = sum_cv(var_origin)\n",
    "sum_vars = sum(cv_var.values())"
   ],
   "metadata": {
    "collapsed": false,
    "pycharm": {
     "name": "#%%\n"
    }
   }
  },
  {
   "cell_type": "code",
   "execution_count": 8,
   "outputs": [],
   "source": [
    "# 通过变异系数法计算权重\n",
    "def WeightOfCv(data):\n",
    "    mean_val = np.mean(data)\n",
    "    std_val = np.std(data)\n",
    "    cv_val = (std_val / mean_val)\n",
    "    weight = cv_val / sum_vars\n",
    "    return weight"
   ],
   "metadata": {
    "collapsed": false,
    "pycharm": {
     "name": "#%%\n"
    }
   }
  },
  {
   "cell_type": "code",
   "execution_count": 9,
   "outputs": [
    {
     "name": "stdout",
     "output_type": "stream",
     "text": [
      "SPAD    0.132697\n",
      "AGB     0.307234\n",
      "LAI     0.294787\n",
      "Ci      0.265282\n",
      "dtype: float64\n"
     ]
    },
    {
     "name": "stderr",
     "output_type": "stream",
     "text": [
      "D:\\PythonFile\\TestAI\\venv\\Lib\\site-packages\\numpy\\core\\fromnumeric.py:3462: FutureWarning: In a future version, DataFrame.mean(axis=None) will return a scalar mean over the entire DataFrame. To retain the old behavior, use 'frame.mean(axis=0)' or just 'frame.mean()'\n",
      "  return mean(axis=axis, dtype=dtype, out=out, **kwargs)\n"
     ]
    }
   ],
   "source": [
    "# 打印权重结果\n",
    "print(WeightOfCv(var_origin))"
   ],
   "metadata": {
    "collapsed": false,
    "pycharm": {
     "name": "#%%\n"
    }
   }
  },
  {
   "cell_type": "code",
   "execution_count": 10,
   "outputs": [],
   "source": [
    "# 数据归一化 (极差变换法)\n",
    "from sklearn.preprocessing import MinMaxScaler\n",
    "scaler = MinMaxScaler(feature_range=(0,1))\n",
    "scaled =scaler.fit_transform(var_origin)"
   ],
   "metadata": {
    "collapsed": false,
    "pycharm": {
     "name": "#%%\n"
    }
   }
  },
  {
   "cell_type": "code",
   "execution_count": 11,
   "outputs": [],
   "source": [
    "# 将数据转换为cuda类型"
   ],
   "metadata": {
    "collapsed": false,
    "pycharm": {
     "name": "#%%\n"
    }
   }
  },
  {
   "cell_type": "code",
   "execution_count": 999,
   "outputs": [],
   "source": [
    "import torch\n",
    "device =torch.device(\"cuda\" if torch.cuda.is_available() else \"cpu\")\n",
    "var =torch.FloatTensor(scaled).to(device)"
   ],
   "metadata": {
    "collapsed": false,
    "pycharm": {
     "name": "#%%\n"
    }
   }
  },
  {
   "cell_type": "code",
   "execution_count": 1000,
   "outputs": [],
   "source": [
    "# print(var)"
   ],
   "metadata": {
    "collapsed": false,
    "pycharm": {
     "name": "#%%\n"
    }
   }
  },
  {
   "cell_type": "code",
   "execution_count": 1001,
   "outputs": [
    {
     "name": "stdout",
     "output_type": "stream",
     "text": [
      "tensor(0.6259)\n",
      "tensor(0.6030)\n",
      "tensor(0.6625)\n",
      "tensor(0.4799)\n",
      "tensor(0.6478)\n",
      "tensor(0.5633)\n",
      "tensor(0.4158)\n",
      "tensor(0.7427)\n",
      "tensor(0.6011)\n",
      "tensor(0.5659)\n",
      "tensor(0.6065)\n",
      "tensor(0.5869)\n",
      "tensor(0.5453)\n",
      "tensor(0.7001)\n",
      "tensor(0.6584)\n",
      "tensor(0.6285)\n",
      "tensor(0.2647)\n",
      "tensor(0.5159)\n",
      "tensor(0.5150)\n",
      "tensor(0.6175)\n",
      "tensor(0.6618)\n",
      "tensor(0.5273)\n",
      "tensor(0.5831)\n",
      "tensor(0.5964)\n",
      "tensor(0.5667)\n",
      "tensor(0.7490)\n",
      "tensor(0.7878)\n",
      "tensor(0.6832)\n",
      "tensor(0.6049)\n",
      "tensor(0.5674)\n",
      "tensor(0.7514)\n",
      "tensor(0.3915)\n",
      "tensor(0.4732)\n",
      "tensor(0.5584)\n",
      "tensor(0.4700)\n",
      "tensor(0.4013)\n",
      "tensor(0.5426)\n",
      "tensor(0.5707)\n",
      "tensor(0.3230)\n",
      "tensor(0.4222)\n",
      "tensor(0.4788)\n",
      "tensor(0.3384)\n",
      "tensor(0.1533)\n",
      "tensor(0.1720)\n",
      "tensor(0.3911)\n",
      "tensor(0.2985)\n",
      "tensor(0.5575)\n",
      "tensor(0.4942)\n",
      "tensor(0.5162)\n",
      "tensor(0.5976)\n",
      "tensor(0.3584)\n",
      "tensor(0.4908)\n",
      "tensor(0.6012)\n",
      "tensor(0.4894)\n",
      "tensor(0.2116)\n",
      "tensor(0.4287)\n",
      "tensor(0.2641)\n",
      "tensor(0.3210)\n",
      "tensor(0.4118)\n",
      "tensor(0.4197)\n",
      "tensor(0.4655)\n",
      "tensor(0.5310)\n",
      "tensor(0.5904)\n",
      "tensor(0.5348)\n",
      "tensor(0.4264)\n",
      "tensor(0.5148)\n"
     ]
    },
    {
     "name": "stderr",
     "output_type": "stream",
     "text": [
      "C:\\Users\\AnleHrc\\AppData\\Local\\Programs\\Python\\Python311\\Lib\\site-packages\\numpy\\core\\fromnumeric.py:3430: FutureWarning: In a future version, DataFrame.mean(axis=None) will return a scalar mean over the entire DataFrame. To retain the old behavior, use 'frame.mean(axis=0)' or just 'frame.mean()'\n",
      "  return mean(axis=axis, dtype=dtype, out=out, **kwargs)\n"
     ]
    }
   ],
   "source": [
    "# 计算CGMIcv(综合涨势检测指标)\n",
    "# 定义计算公式函数\n",
    "# 通过变异系数法计算的权重\n",
    "weight_data = WeightOfCv(var_origin)\n",
    "\n",
    "#将numpy arry 转换为 Tensor(张量)\n",
    "weight_data = torch.FloatTensor(weight_data).to(device)\n",
    "\n",
    "cgmicv = var*weight_data\n",
    "\n",
    "#最终结果\n",
    "def finallyResult(data):\n",
    "    resultArray = {}\n",
    "    per_sum = 0\n",
    "    for i in range(len(cgmicv)):\n",
    "        for j in range(len(cgmicv[i])):\n",
    "            per_sum = per_sum+cgmicv[i][j]\n",
    "            # print(\"per_sum\",per_sum)\n",
    "        resultArray[i] = per_sum\n",
    "        per_sum = 0\n",
    "    return resultArray\n",
    "\n",
    "dataS = finallyResult(cgmicv)\n",
    "# print(dataS)\n",
    "\n",
    "for i in range(len(dataS)):\n",
    "    print(dataS[i])"
   ],
   "metadata": {
    "collapsed": false,
    "pycharm": {
     "name": "#%%\n"
    }
   }
  },
  {
   "cell_type": "code",
   "execution_count": 1002,
   "outputs": [
    {
     "data": {
      "text/plain": "<Figure size 640x480 with 1 Axes>",
      "image/png": "[encoded data removed]"
     },
     "metadata": {},
     "output_type": "display_data"
    }
   ],
   "source": [
    "# 归一化数据直方图\n",
    "import matplotlib.pyplot as plt\n",
    "# 绘制直方图\n",
    "plt.hist(var)\n",
    "plt.title(\"Normalized Data Histogram\")\n",
    "plt.xlabel(\"Normalized Value\")\n",
    "plt.ylabel(\"Frequency\")\n",
    "plt.show()"
   ],
   "metadata": {
    "collapsed": false,
    "pycharm": {
     "name": "#%%\n"
    }
   }
  }
 ],
 "metadata": {
  "kernelspec": {
   "display_name": "Python 3",
   "language": "python",
   "name": "python3"
  },
  "language_info": {
   "codemirror_mode": {
    "name": "ipython",
    "version": 2
   },
   "file_extension": ".py",
   "mimetype": "text/x-python",
   "name": "python",
   "nbconvert_exporter": "python",
   "pygments_lexer": "ipython2",
   "version": "2.7.6"
  }
 },
 "nbformat": 4,
 "nbformat_minor": 0
}