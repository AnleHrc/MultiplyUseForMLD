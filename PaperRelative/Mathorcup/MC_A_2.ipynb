{
 "cells": [
  {
   "cell_type": "code",
   "execution_count": 1,
   "outputs": [
    {
     "ename": "IndentationError",
     "evalue": "expected an indented block after 'for' statement on line 28 (2792995719.py, line 31)",
     "output_type": "error",
     "traceback": [
      "\u001B[1;36m  Cell \u001B[1;32mIn [1], line 31\u001B[1;36m\u001B[0m\n\u001B[1;33m    bqm = BinaryQuadraticModel.from_qubo(coefficients)\u001B[0m\n\u001B[1;37m                                                      ^\u001B[0m\n\u001B[1;31mIndentationError\u001B[0m\u001B[1;31m:\u001B[0m expected an indented block after 'for' statement on line 28\n"
     ]
    }
   ],
   "source": [
    "# 导入必要的库\n",
    "from dwave.system import DWaveSampler, EmbeddingComposite\n",
    "from dimod import BinaryQuadraticModel\n",
    "\n",
    "# 定义QUBO系数\n",
    "t = 0.7\n",
    "h = 0.003\n",
    "P = 1000\n",
    "\n",
    "# 定义问题的变量和系数\n",
    "variables = [(\"x\", i, j) for i in range(30) for j in range(86)]\n",
    "coefficients = {(i, j): 0 for i in variables for j in variables}\n",
    "\n",
    "for i in range(30):\n",
    "    for j in range(86):\n",
    "        index = i * 86 + j\n",
    "        coefficients[((\"x\", i, j), (\"x\", i, j))] += t * index / P\n",
    "        coefficients[((\"x\", i, j), (\"x\", i, (j + 1) % 86))] += t * index / P\n",
    "        coefficients[((\"x\", i, j), (\"x\", (i + 1) % 30, j))] += t * index / P\n",
    "        coefficients[((\"x\", i, j), (\"x\", (i + 1) % 30, (j + 1) % 86))] += t * index / P\n",
    "        coefficients[((\"x\", i, j), (\"x\", (i + 29) % 30, j))] += t * index / P\n",
    "        coefficients[((\"x\", i, j), (\"x\", (i + 29) % 30, (j + 1) % 86))] += t * index / P\n",
    "        coefficients[((\"x\", i, j), (\"x\", (i + 1) % 30, (j + 85) % 86))] += t * index / P\n",
    "        coefficients[((\"x\", i, j), (\"x\", (i + 29) % 30, (j + 85) % 86))] += t * index / P\n",
    "        coefficients[((\"x\", i, j), (\"x\", k, j))] += h / P\n",
    "        for k in range(30):\n",
    "            coefficients[((\"x\", i, j), (\"x\", i, k))] += h / P\n",
    "        for k in range(86):\n",
    "\n",
    "# 创建二次二元模型并求解\n",
    "bqm = BinaryQuadraticModel.from_qubo(coefficients)\n",
    "sampler = EmbeddingComposite(DWaveSampler())\n",
    "sampleset = sampler.sample(bqm, num_reads=1000)\n",
    "best_solution = sampleset.first.sample\n",
    "\n",
    "# 解码二元变量并输出最优解\n",
    "result = []\n",
    "for i in range(30):\n",
    "    row = []\n",
    "    for j in range(86):\n",
    "        index = i * 86 + j\n",
    "        x = best_solution[(\"x\", i, j)]\n",
    "        row.append(x)\n",
    "    result.append(row)\n",
    "print(result)"
   ],
   "metadata": {
    "collapsed": false
   }
  },
  {
   "cell_type": "code",
   "execution_count": null,
   "outputs": [],
   "source": [],
   "metadata": {
    "collapsed": false
   }
  }
 ],
 "metadata": {
  "kernelspec": {
   "display_name": "Python 3",
   "language": "python",
   "name": "python3"
  },
  "language_info": {
   "codemirror_mode": {
    "name": "ipython",
    "version": 2
   },
   "file_extension": ".py",
   "mimetype": "text/x-python",
   "name": "python",
   "nbconvert_exporter": "python",
   "pygments_lexer": "ipython2",
   "version": "2.7.6"
  }
 },
 "nbformat": 4,
 "nbformat_minor": 0
}
