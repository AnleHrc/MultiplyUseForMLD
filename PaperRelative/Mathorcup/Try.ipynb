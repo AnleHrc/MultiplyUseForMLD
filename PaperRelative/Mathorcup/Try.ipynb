{
 "cells": [
  {
   "cell_type": "code",
   "execution_count": 2,
   "metadata": {
    "collapsed": true
   },
   "outputs": [],
   "source": [
    "import pandas as pd\n",
    "import numpy as np"
   ]
  },
  {
   "cell_type": "code",
   "execution_count": 3,
   "outputs": [
    {
     "data": {
      "text/plain": "    t_1    h_1   t_2    h_2   t_3    h_3   t_4    h_4   t_5    h_5  ...  t_96  \\\n0  0.76  0.013  0.72  0.032  0.80  0.012  0.79  0.004  0.70  0.009  ...  0.74   \n1  0.77  0.015  0.73  0.038  0.82  0.013  0.80  0.007  0.76  0.015  ...  0.76   \n2  0.78  0.017  0.76  0.050  0.83  0.024  0.81  0.011  0.77  0.025  ...  0.80   \n3  0.80  0.024  0.77  0.053  0.86  0.040  0.84  0.017  0.79  0.030  ...  0.83   \n4  0.82  0.026  0.79  0.065  0.89  0.042  0.85  0.028  0.81  0.035  ...  0.84   \n\n    h_96  t_97   h_97  t_98   h_98  t_99   h_99  t_100  h_100  \n0  0.006  0.72  0.023  0.79  0.011  0.75  0.011   0.71  0.016  \n1  0.017  0.77  0.037  0.81  0.015  0.77  0.013   0.78  0.024  \n2  0.040  0.80  0.043  0.83  0.023  0.80  0.020   0.80  0.028  \n3  0.045  0.82  0.056  0.85  0.024  0.84  0.023   0.81  0.040  \n4  0.047  0.83  0.059  0.86  0.032  0.85  0.026   0.84  0.043  \n\n[5 rows x 200 columns]",
      "text/html": "<div>\n<style scoped>\n    .dataframe tbody tr th:only-of-type {\n        vertical-align: middle;\n    }\n\n    .dataframe tbody tr th {\n        vertical-align: top;\n    }\n\n    .dataframe thead th {\n        text-align: right;\n    }\n</style>\n<table border=\"1\" class=\"dataframe\">\n  <thead>\n    <tr style=\"text-align: right;\">\n      <th></th>\n      <th>t_1</th>\n      <th>h_1</th>\n      <th>t_2</th>\n      <th>h_2</th>\n      <th>t_3</th>\n      <th>h_3</th>\n      <th>t_4</th>\n      <th>h_4</th>\n      <th>t_5</th>\n      <th>h_5</th>\n      <th>...</th>\n      <th>t_96</th>\n      <th>h_96</th>\n      <th>t_97</th>\n      <th>h_97</th>\n      <th>t_98</th>\n      <th>h_98</th>\n      <th>t_99</th>\n      <th>h_99</th>\n      <th>t_100</th>\n      <th>h_100</th>\n    </tr>\n  </thead>\n  <tbody>\n    <tr>\n      <th>0</th>\n      <td>0.76</td>\n      <td>0.013</td>\n      <td>0.72</td>\n      <td>0.032</td>\n      <td>0.80</td>\n      <td>0.012</td>\n      <td>0.79</td>\n      <td>0.004</td>\n      <td>0.70</td>\n      <td>0.009</td>\n      <td>...</td>\n      <td>0.74</td>\n      <td>0.006</td>\n      <td>0.72</td>\n      <td>0.023</td>\n      <td>0.79</td>\n      <td>0.011</td>\n      <td>0.75</td>\n      <td>0.011</td>\n      <td>0.71</td>\n      <td>0.016</td>\n    </tr>\n    <tr>\n      <th>1</th>\n      <td>0.77</td>\n      <td>0.015</td>\n      <td>0.73</td>\n      <td>0.038</td>\n      <td>0.82</td>\n      <td>0.013</td>\n      <td>0.80</td>\n      <td>0.007</td>\n      <td>0.76</td>\n      <td>0.015</td>\n      <td>...</td>\n      <td>0.76</td>\n      <td>0.017</td>\n      <td>0.77</td>\n      <td>0.037</td>\n      <td>0.81</td>\n      <td>0.015</td>\n      <td>0.77</td>\n      <td>0.013</td>\n      <td>0.78</td>\n      <td>0.024</td>\n    </tr>\n    <tr>\n      <th>2</th>\n      <td>0.78</td>\n      <td>0.017</td>\n      <td>0.76</td>\n      <td>0.050</td>\n      <td>0.83</td>\n      <td>0.024</td>\n      <td>0.81</td>\n      <td>0.011</td>\n      <td>0.77</td>\n      <td>0.025</td>\n      <td>...</td>\n      <td>0.80</td>\n      <td>0.040</td>\n      <td>0.80</td>\n      <td>0.043</td>\n      <td>0.83</td>\n      <td>0.023</td>\n      <td>0.80</td>\n      <td>0.020</td>\n      <td>0.80</td>\n      <td>0.028</td>\n    </tr>\n    <tr>\n      <th>3</th>\n      <td>0.80</td>\n      <td>0.024</td>\n      <td>0.77</td>\n      <td>0.053</td>\n      <td>0.86</td>\n      <td>0.040</td>\n      <td>0.84</td>\n      <td>0.017</td>\n      <td>0.79</td>\n      <td>0.030</td>\n      <td>...</td>\n      <td>0.83</td>\n      <td>0.045</td>\n      <td>0.82</td>\n      <td>0.056</td>\n      <td>0.85</td>\n      <td>0.024</td>\n      <td>0.84</td>\n      <td>0.023</td>\n      <td>0.81</td>\n      <td>0.040</td>\n    </tr>\n    <tr>\n      <th>4</th>\n      <td>0.82</td>\n      <td>0.026</td>\n      <td>0.79</td>\n      <td>0.065</td>\n      <td>0.89</td>\n      <td>0.042</td>\n      <td>0.85</td>\n      <td>0.028</td>\n      <td>0.81</td>\n      <td>0.035</td>\n      <td>...</td>\n      <td>0.84</td>\n      <td>0.047</td>\n      <td>0.83</td>\n      <td>0.059</td>\n      <td>0.86</td>\n      <td>0.032</td>\n      <td>0.85</td>\n      <td>0.026</td>\n      <td>0.84</td>\n      <td>0.043</td>\n    </tr>\n  </tbody>\n</table>\n<p>5 rows × 200 columns</p>\n</div>"
     },
     "execution_count": 3,
     "metadata": {},
     "output_type": "execute_result"
    }
   ],
   "source": [
    "data = pd.read_csv('Data/data_100.csv')\n",
    "data.head()"
   ],
   "metadata": {
    "collapsed": false
   }
  },
  {
   "cell_type": "code",
   "execution_count": 4,
   "outputs": [
    {
     "ename": "KeyError",
     "evalue": "(1, 0)",
     "output_type": "error",
     "traceback": [
      "\u001B[1;31m---------------------------------------------------------------------------\u001B[0m",
      "\u001B[1;31mKeyError\u001B[0m                                  Traceback (most recent call last)",
      "File \u001B[1;32m~\\AppData\\Local\\Programs\\Python\\Python310\\lib\\site-packages\\pandas\\core\\indexes\\base.py:3802\u001B[0m, in \u001B[0;36mIndex.get_loc\u001B[1;34m(self, key, method, tolerance)\u001B[0m\n\u001B[0;32m   3801\u001B[0m \u001B[38;5;28;01mtry\u001B[39;00m:\n\u001B[1;32m-> 3802\u001B[0m     \u001B[38;5;28;01mreturn\u001B[39;00m \u001B[38;5;28;43mself\u001B[39;49m\u001B[38;5;241;43m.\u001B[39;49m\u001B[43m_engine\u001B[49m\u001B[38;5;241;43m.\u001B[39;49m\u001B[43mget_loc\u001B[49m\u001B[43m(\u001B[49m\u001B[43mcasted_key\u001B[49m\u001B[43m)\u001B[49m\n\u001B[0;32m   3803\u001B[0m \u001B[38;5;28;01mexcept\u001B[39;00m \u001B[38;5;167;01mKeyError\u001B[39;00m \u001B[38;5;28;01mas\u001B[39;00m err:\n",
      "File \u001B[1;32m~\\AppData\\Local\\Programs\\Python\\Python310\\lib\\site-packages\\pandas\\_libs\\index.pyx:138\u001B[0m, in \u001B[0;36mpandas._libs.index.IndexEngine.get_loc\u001B[1;34m()\u001B[0m\n",
      "File \u001B[1;32m~\\AppData\\Local\\Programs\\Python\\Python310\\lib\\site-packages\\pandas\\_libs\\index.pyx:165\u001B[0m, in \u001B[0;36mpandas._libs.index.IndexEngine.get_loc\u001B[1;34m()\u001B[0m\n",
      "File \u001B[1;32mpandas\\_libs\\hashtable_class_helper.pxi:5745\u001B[0m, in \u001B[0;36mpandas._libs.hashtable.PyObjectHashTable.get_item\u001B[1;34m()\u001B[0m\n",
      "File \u001B[1;32mpandas\\_libs\\hashtable_class_helper.pxi:5753\u001B[0m, in \u001B[0;36mpandas._libs.hashtable.PyObjectHashTable.get_item\u001B[1;34m()\u001B[0m\n",
      "\u001B[1;31mKeyError\u001B[0m: (1, 0)",
      "\nThe above exception was the direct cause of the following exception:\n",
      "\u001B[1;31mKeyError\u001B[0m                                  Traceback (most recent call last)",
      "Cell \u001B[1;32mIn [4], line 1\u001B[0m\n\u001B[1;32m----> 1\u001B[0m \u001B[43mdata\u001B[49m\u001B[43m[\u001B[49m\u001B[38;5;241;43m1\u001B[39;49m\u001B[43m,\u001B[49m\u001B[38;5;241;43m0\u001B[39;49m\u001B[43m]\u001B[49m\n",
      "File \u001B[1;32m~\\AppData\\Local\\Programs\\Python\\Python310\\lib\\site-packages\\pandas\\core\\frame.py:3807\u001B[0m, in \u001B[0;36mDataFrame.__getitem__\u001B[1;34m(self, key)\u001B[0m\n\u001B[0;32m   3805\u001B[0m \u001B[38;5;28;01mif\u001B[39;00m \u001B[38;5;28mself\u001B[39m\u001B[38;5;241m.\u001B[39mcolumns\u001B[38;5;241m.\u001B[39mnlevels \u001B[38;5;241m>\u001B[39m \u001B[38;5;241m1\u001B[39m:\n\u001B[0;32m   3806\u001B[0m     \u001B[38;5;28;01mreturn\u001B[39;00m \u001B[38;5;28mself\u001B[39m\u001B[38;5;241m.\u001B[39m_getitem_multilevel(key)\n\u001B[1;32m-> 3807\u001B[0m indexer \u001B[38;5;241m=\u001B[39m \u001B[38;5;28;43mself\u001B[39;49m\u001B[38;5;241;43m.\u001B[39;49m\u001B[43mcolumns\u001B[49m\u001B[38;5;241;43m.\u001B[39;49m\u001B[43mget_loc\u001B[49m\u001B[43m(\u001B[49m\u001B[43mkey\u001B[49m\u001B[43m)\u001B[49m\n\u001B[0;32m   3808\u001B[0m \u001B[38;5;28;01mif\u001B[39;00m is_integer(indexer):\n\u001B[0;32m   3809\u001B[0m     indexer \u001B[38;5;241m=\u001B[39m [indexer]\n",
      "File \u001B[1;32m~\\AppData\\Local\\Programs\\Python\\Python310\\lib\\site-packages\\pandas\\core\\indexes\\base.py:3804\u001B[0m, in \u001B[0;36mIndex.get_loc\u001B[1;34m(self, key, method, tolerance)\u001B[0m\n\u001B[0;32m   3802\u001B[0m     \u001B[38;5;28;01mreturn\u001B[39;00m \u001B[38;5;28mself\u001B[39m\u001B[38;5;241m.\u001B[39m_engine\u001B[38;5;241m.\u001B[39mget_loc(casted_key)\n\u001B[0;32m   3803\u001B[0m \u001B[38;5;28;01mexcept\u001B[39;00m \u001B[38;5;167;01mKeyError\u001B[39;00m \u001B[38;5;28;01mas\u001B[39;00m err:\n\u001B[1;32m-> 3804\u001B[0m     \u001B[38;5;28;01mraise\u001B[39;00m \u001B[38;5;167;01mKeyError\u001B[39;00m(key) \u001B[38;5;28;01mfrom\u001B[39;00m \u001B[38;5;21;01merr\u001B[39;00m\n\u001B[0;32m   3805\u001B[0m \u001B[38;5;28;01mexcept\u001B[39;00m \u001B[38;5;167;01mTypeError\u001B[39;00m:\n\u001B[0;32m   3806\u001B[0m     \u001B[38;5;66;03m# If we have a listlike key, _check_indexing_error will raise\u001B[39;00m\n\u001B[0;32m   3807\u001B[0m     \u001B[38;5;66;03m#  InvalidIndexError. Otherwise we fall through and re-raise\u001B[39;00m\n\u001B[0;32m   3808\u001B[0m     \u001B[38;5;66;03m#  the TypeError.\u001B[39;00m\n\u001B[0;32m   3809\u001B[0m     \u001B[38;5;28mself\u001B[39m\u001B[38;5;241m.\u001B[39m_check_indexing_error(key)\n",
      "\u001B[1;31mKeyError\u001B[0m: (1, 0)"
     ]
    }
   ],
   "source": [
    "np.array()"
   ],
   "metadata": {
    "collapsed": false
   }
  },
  {
   "cell_type": "code",
   "execution_count": null,
   "outputs": [],
   "source": [],
   "metadata": {
    "collapsed": false
   }
  }
 ],
 "metadata": {
  "kernelspec": {
   "display_name": "Python 3",
   "language": "python",
   "name": "python3"
  },
  "language_info": {
   "codemirror_mode": {
    "name": "ipython",
    "version": 2
   },
   "file_extension": ".py",
   "mimetype": "text/x-python",
   "name": "python",
   "nbconvert_exporter": "python",
   "pygments_lexer": "ipython2",
   "version": "2.7.6"
  }
 },
 "nbformat": 4,
 "nbformat_minor": 0
}
