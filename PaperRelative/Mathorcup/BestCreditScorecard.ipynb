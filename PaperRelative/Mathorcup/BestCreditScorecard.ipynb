{
 "cells": [
  {
   "cell_type": "code",
   "execution_count": 64,
   "metadata": {
    "collapsed": true,
    "pycharm": {
     "name": "#%%\n"
    }
   },
   "outputs": [],
   "source": [
    "import numpy as np\n",
    "import pandas as pd"
   ]
  },
  {
   "cell_type": "code",
   "execution_count": 65,
   "outputs": [],
   "source": [
    "# 计算规则\n",
    "# 最终收入 = 贷款利息收入-坏账损失\n",
    "# n重信用卡组合策略\n",
    "# 组合后的总通过率为： n个通过率的总积\n",
    "# 总坏账率为：1/n * (总坏账率总和)\n",
    "\n",
    "#贷款利息为\n",
    "#贷款资金 * 利息收入率 * 总通过率 * (1-总坏账率)\n",
    "\n",
    "#由坏账带来的坏账损失为\n",
    "#贷款资金 * 总通过率 * 总坏账率\n",
    "\n",
    "#银行最终收入\n",
    "# 贷款利息 - 由坏账带来的坏账损失"
   ],
   "metadata": {
    "collapsed": false,
    "pycharm": {
     "name": "#%%\n"
    }
   }
  },
  {
   "cell_type": "code",
   "execution_count": 66,
   "outputs": [
    {
     "data": {
      "text/plain": "    t_1    h_1   t_2    h_2   t_3    h_3   t_4    h_4   t_5    h_5  ...  t_96  \\\n0  0.76  0.013  0.72  0.032  0.80  0.012  0.79  0.004  0.70  0.009  ...  0.74   \n1  0.77  0.015  0.73  0.038  0.82  0.013  0.80  0.007  0.76  0.015  ...  0.76   \n2  0.78  0.017  0.76  0.050  0.83  0.024  0.81  0.011  0.77  0.025  ...  0.80   \n3  0.80  0.024  0.77  0.053  0.86  0.040  0.84  0.017  0.79  0.030  ...  0.83   \n4  0.82  0.026  0.79  0.065  0.89  0.042  0.85  0.028  0.81  0.035  ...  0.84   \n\n    h_96  t_97   h_97  t_98   h_98  t_99   h_99  t_100  h_100  \n0  0.006  0.72  0.023  0.79  0.011  0.75  0.011   0.71  0.016  \n1  0.017  0.77  0.037  0.81  0.015  0.77  0.013   0.78  0.024  \n2  0.040  0.80  0.043  0.83  0.023  0.80  0.020   0.80  0.028  \n3  0.045  0.82  0.056  0.85  0.024  0.84  0.023   0.81  0.040  \n4  0.047  0.83  0.059  0.86  0.032  0.85  0.026   0.84  0.043  \n\n[5 rows x 200 columns]",
      "text/html": "<div>\n<style scoped>\n    .dataframe tbody tr th:only-of-type {\n        vertical-align: middle;\n    }\n\n    .dataframe tbody tr th {\n        vertical-align: top;\n    }\n\n    .dataframe thead th {\n        text-align: right;\n    }\n</style>\n<table border=\"1\" class=\"dataframe\">\n  <thead>\n    <tr style=\"text-align: right;\">\n      <th></th>\n      <th>t_1</th>\n      <th>h_1</th>\n      <th>t_2</th>\n      <th>h_2</th>\n      <th>t_3</th>\n      <th>h_3</th>\n      <th>t_4</th>\n      <th>h_4</th>\n      <th>t_5</th>\n      <th>h_5</th>\n      <th>...</th>\n      <th>t_96</th>\n      <th>h_96</th>\n      <th>t_97</th>\n      <th>h_97</th>\n      <th>t_98</th>\n      <th>h_98</th>\n      <th>t_99</th>\n      <th>h_99</th>\n      <th>t_100</th>\n      <th>h_100</th>\n    </tr>\n  </thead>\n  <tbody>\n    <tr>\n      <th>0</th>\n      <td>0.76</td>\n      <td>0.013</td>\n      <td>0.72</td>\n      <td>0.032</td>\n      <td>0.80</td>\n      <td>0.012</td>\n      <td>0.79</td>\n      <td>0.004</td>\n      <td>0.70</td>\n      <td>0.009</td>\n      <td>...</td>\n      <td>0.74</td>\n      <td>0.006</td>\n      <td>0.72</td>\n      <td>0.023</td>\n      <td>0.79</td>\n      <td>0.011</td>\n      <td>0.75</td>\n      <td>0.011</td>\n      <td>0.71</td>\n      <td>0.016</td>\n    </tr>\n    <tr>\n      <th>1</th>\n      <td>0.77</td>\n      <td>0.015</td>\n      <td>0.73</td>\n      <td>0.038</td>\n      <td>0.82</td>\n      <td>0.013</td>\n      <td>0.80</td>\n      <td>0.007</td>\n      <td>0.76</td>\n      <td>0.015</td>\n      <td>...</td>\n      <td>0.76</td>\n      <td>0.017</td>\n      <td>0.77</td>\n      <td>0.037</td>\n      <td>0.81</td>\n      <td>0.015</td>\n      <td>0.77</td>\n      <td>0.013</td>\n      <td>0.78</td>\n      <td>0.024</td>\n    </tr>\n    <tr>\n      <th>2</th>\n      <td>0.78</td>\n      <td>0.017</td>\n      <td>0.76</td>\n      <td>0.050</td>\n      <td>0.83</td>\n      <td>0.024</td>\n      <td>0.81</td>\n      <td>0.011</td>\n      <td>0.77</td>\n      <td>0.025</td>\n      <td>...</td>\n      <td>0.80</td>\n      <td>0.040</td>\n      <td>0.80</td>\n      <td>0.043</td>\n      <td>0.83</td>\n      <td>0.023</td>\n      <td>0.80</td>\n      <td>0.020</td>\n      <td>0.80</td>\n      <td>0.028</td>\n    </tr>\n    <tr>\n      <th>3</th>\n      <td>0.80</td>\n      <td>0.024</td>\n      <td>0.77</td>\n      <td>0.053</td>\n      <td>0.86</td>\n      <td>0.040</td>\n      <td>0.84</td>\n      <td>0.017</td>\n      <td>0.79</td>\n      <td>0.030</td>\n      <td>...</td>\n      <td>0.83</td>\n      <td>0.045</td>\n      <td>0.82</td>\n      <td>0.056</td>\n      <td>0.85</td>\n      <td>0.024</td>\n      <td>0.84</td>\n      <td>0.023</td>\n      <td>0.81</td>\n      <td>0.040</td>\n    </tr>\n    <tr>\n      <th>4</th>\n      <td>0.82</td>\n      <td>0.026</td>\n      <td>0.79</td>\n      <td>0.065</td>\n      <td>0.89</td>\n      <td>0.042</td>\n      <td>0.85</td>\n      <td>0.028</td>\n      <td>0.81</td>\n      <td>0.035</td>\n      <td>...</td>\n      <td>0.84</td>\n      <td>0.047</td>\n      <td>0.83</td>\n      <td>0.059</td>\n      <td>0.86</td>\n      <td>0.032</td>\n      <td>0.85</td>\n      <td>0.026</td>\n      <td>0.84</td>\n      <td>0.043</td>\n    </tr>\n  </tbody>\n</table>\n<p>5 rows × 200 columns</p>\n</div>"
     },
     "execution_count": 66,
     "metadata": {},
     "output_type": "execute_result"
    }
   ],
   "source": [
    "#读取文件\n",
    "data = pd.read_csv('../Mathorcup/Data/data_100.csv')\n",
    "data.head()"
   ],
   "metadata": {
    "collapsed": false,
    "pycharm": {
     "name": "#%%\n"
    }
   }
  },
  {
   "cell_type": "code",
   "execution_count": 67,
   "outputs": [],
   "source": [
    "#数据说明\n",
    "#t_1,h_1，分别表示信用评分卡1的通过率和坏账率，共一百张信用评分卡\n",
    "#每个信用评分卡可设置十个阈值"
   ],
   "metadata": {
    "collapsed": false,
    "pycharm": {
     "name": "#%%\n"
    }
   }
  },
  {
   "cell_type": "code",
   "execution_count": 68,
   "outputs": [
    {
     "name": "stdout",
     "output_type": "stream",
     "text": [
      "    t_1    h_1   t_2    h_2   t_3    h_3\n",
      "0  0.76  0.013  0.72  0.032  0.80  0.012\n",
      "1  0.77  0.015  0.73  0.038  0.82  0.013\n",
      "2  0.78  0.017  0.76  0.050  0.83  0.024\n",
      "3  0.80  0.024  0.77  0.053  0.86  0.040\n",
      "4  0.82  0.026  0.79  0.065  0.89  0.042\n",
      "5  0.84  0.028  0.82  0.074  0.92  0.057\n",
      "6  0.87  0.030  0.86  0.076  0.93  0.068\n",
      "7  0.93  0.036  0.87  0.079  0.94  0.069\n",
      "8  0.94  0.043  0.91  0.080  0.97  0.070\n",
      "9  0.96  0.052  0.92  0.084  0.98  0.073\n",
      "3\n"
     ]
    }
   ],
   "source": [
    "# 测试前三个信用评分卡哪个最好\n",
    "datateset = data.iloc[:,0:6]\n",
    "print(datateset)\n",
    "\n",
    "# 卡的数量\n",
    "datateset = np.array(datateset)\n",
    "card_num = (len(datateset[0]) / 2).__int__()\n",
    "print(card_num)\n"
   ],
   "metadata": {
    "collapsed": false,
    "pycharm": {
     "name": "#%%\n"
    }
   }
  },
  {
   "cell_type": "code",
   "execution_count": 69,
   "outputs": [
    {
     "name": "stdout",
     "output_type": "stream",
     "text": [
      "0.503272\n",
      "0.035\n",
      "38168.22852843123\n"
     ]
    }
   ],
   "source": [
    "# 手动测试\n",
    "# t_1,h_1 : 3\n",
    "t_1 = datateset[1][0]\n",
    "h_1 = datateset[1][1]\n",
    "\n",
    "# t_2,h_2 : 6\n",
    "t_2 = datateset[2][2]\n",
    "h_2 = datateset[2][3]\n",
    "\n",
    "#t_3,h_3 : 8\n",
    "t_3 = datateset[3][4]\n",
    "h_3 = datateset[3][5]\n",
    "\n",
    "# 总通过率\n",
    "count_acc = t_1*t_2*t_3\n",
    "print(count_acc)\n",
    "#总坏账率\n",
    "bad_per = (1 / card_num) * (h_1+h_2+h_3)\n",
    "print(bad_per)\n",
    "#贷款利息\n",
    "good_m = 1000000 * 0.08 * count_acc * (1-bad_per)\n",
    "\n",
    "#由坏账带来的坏账损失为\n",
    "bad_m = good_m * count_acc * bad_per\n",
    "\n",
    "#银行最终收入\n",
    "finallyResult = good_m - bad_m\n",
    "\n",
    "print(finallyResult)"
   ],
   "metadata": {
    "collapsed": false,
    "pycharm": {
     "name": "#%%\n"
    }
   }
  }
 ],
 "metadata": {
  "kernelspec": {
   "display_name": "Python 3",
   "language": "python",
   "name": "python3"
  },
  "language_info": {
   "codemirror_mode": {
    "name": "ipython",
    "version": 2
   },
   "file_extension": ".py",
   "mimetype": "text/x-python",
   "name": "python",
   "nbconvert_exporter": "python",
   "pygments_lexer": "ipython2",
   "version": "2.7.6"
  }
 },
 "nbformat": 4,
 "nbformat_minor": 0
}