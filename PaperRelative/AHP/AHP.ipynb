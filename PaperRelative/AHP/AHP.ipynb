{
 "cells": [
  {
   "cell_type": "code",
   "execution_count": 1,
   "outputs": [],
   "source": [
    "import numpy as np\n",
    "import pandas as pd"
   ],
   "metadata": {
    "collapsed": false,
    "pycharm": {
     "name": "#%%\n"
    }
   }
  },
  {
   "cell_type": "code",
   "execution_count": 2,
   "outputs": [],
   "source": [
    "# 构造判断矩阵\n",
    "def build_matrix(values):\n",
    "    n = len(values)\n",
    "    mat = np.zeros((n, n))\n",
    "    for i in range(n):\n",
    "        for j in range(i, n):\n",
    "            if i == j:\n",
    "                mat[i][j] = 1\n",
    "            else:\n",
    "                mat[i][j] = values[i] / values[j]\n",
    "                mat[j][i] = 1 / mat[i][j]\n",
    "    return mat"
   ],
   "metadata": {
    "collapsed": false,
    "pycharm": {
     "name": "#%%\n"
    }
   }
  },
  {
   "cell_type": "code",
   "execution_count": 3,
   "outputs": [],
   "source": [
    "# 计算每个准则的权重\n",
    "def calc_weight(mat):\n",
    "    eig_val, eig_vec = np.linalg.eig(mat)\n",
    "    max_eig_val_index = np.argmax(eig_val)\n",
    "    max_eig_vec = eig_vec[:, max_eig_val_index]\n",
    "    weight = max_eig_vec / max_eig_vec.sum()\n",
    "    return weight"
   ],
   "metadata": {
    "collapsed": false,
    "pycharm": {
     "name": "#%%\n"
    }
   }
  },
  {
   "cell_type": "code",
   "execution_count": 4,
   "outputs": [],
   "source": [
    "# 层次分析法主程序\n",
    "def ahp(data):\n",
    "    # 构造层次结构\n",
    "    criteria = data.columns.tolist()  # 准则层\n",
    "    alternatives = data.index.tolist()  # 方案层\n",
    "    n = len(criteria) + len(alternatives)  # 层次总数\n",
    "    hierarchy = [alternatives, criteria]\n",
    "     # 计算判断矩阵\n",
    "    matrices = []\n",
    "    for i in range(len(criteria)):\n",
    "        mat = build_matrix(data[criteria[i]].tolist())\n",
    "        matrices.append(mat)\n",
    "    matrices.append(np.eye(len(alternatives)))  # 方案层的判断矩阵为单位矩阵\n",
    "\n",
    "    # 计算每个准则的权重\n",
    "    weights = []\n",
    "    for mat in matrices:\n",
    "        weights.append(calc_weight(mat))\n",
    "    criteria_weights = weights[:-1]\n",
    "    alternatives_weights = weights[-1]\n",
    "\n",
    "    # 计算每个方案的总权重\n",
    "    total_weights = []\n",
    "    for i in range(len(alternatives)):\n",
    "        total_weight = 0\n",
    "        for j in range(len(criteria)):\n",
    "            total_weight += criteria_weights[j][i] * alternatives_weights[i]\n",
    "        total_weights.append(total_weight)\n",
    "\n",
    "    # 返回每个方案的总权重\n",
    "    return pd.DataFrame(total_weights, index=alternatives, columns=['Total Weight'])"
   ],
   "metadata": {
    "collapsed": false,
    "pycharm": {
     "name": "#%%\n"
    }
   }
  },
  {
   "cell_type": "code",
   "execution_count": 11,
   "outputs": [
    {
     "name": "stdout",
     "output_type": "stream",
     "text": [
      "          Total Weight\n",
      "0   0.168939+0.000000j\n",
      "1   0.000000+0.000000j\n",
      "2   0.000000+0.000000j\n",
      "3   0.000000+0.000000j\n",
      "4   0.000000+0.000000j\n",
      "..                 ...\n",
      "61  0.000000+0.000000j\n",
      "62  0.000000+0.000000j\n",
      "63  0.000000+0.000000j\n",
      "64  0.000000+0.000000j\n",
      "65  0.000000+0.000000j\n",
      "\n",
      "[66 rows x 1 columns]\n"
     ]
    }
   ],
   "source": [
    "import pandas as pd\n",
    "\n",
    "# 读取数据\n",
    "data = pd.read_excel('../Resource/ExperimentDataBase/Spad_various_index.xlsx',usecols=['Band1蓝','Band2绿','Band3红','Band4红边','Band5近红外1','Band6近红外2','SPAD','株高','LAI','Gs','含水率'])\n",
    "\n",
    "# 运行层次分析法\n",
    "weights = ahp(data)\n",
    "\n",
    "# 打印结果\n",
    "print(weights)"
   ],
   "metadata": {
    "collapsed": false,
    "pycharm": {
     "name": "#%%\n"
    }
   }
  },
  {
   "cell_type": "code",
   "execution_count": 13,
   "outputs": [],
   "source": [
    "# 将重构后的数据保存到DataFrame对象中\n",
    "df2 = pd.DataFrame(weights)\n",
    "\n",
    "# 保存DataFrame对象到excel文件中\n",
    "df2.to_excel('reconstructed_pad.xlsx',index=False)"
   ],
   "metadata": {
    "collapsed": false,
    "pycharm": {
     "name": "#%%\n"
    }
   }
  },
  {
   "cell_type": "code",
   "execution_count": null,
   "outputs": [],
   "source": [],
   "metadata": {
    "collapsed": false,
    "pycharm": {
     "name": "#%%\n"
    }
   }
  }
 ],
 "metadata": {
  "kernelspec": {
   "display_name": "Python 3",
   "language": "python",
   "name": "python3"
  },
  "language_info": {
   "codemirror_mode": {
    "name": "ipython",
    "version": 2
   },
   "file_extension": ".py",
   "mimetype": "text/x-python",
   "name": "python",
   "nbconvert_exporter": "python",
   "pygments_lexer": "ipython2",
   "version": "2.7.6"
  }
 },
 "nbformat": 4,
 "nbformat_minor": 0
}