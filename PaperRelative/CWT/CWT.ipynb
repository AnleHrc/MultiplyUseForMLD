{
 "cells": [
  {
   "cell_type": "code",
   "execution_count": 1,
   "outputs": [
    {
     "ename": "ModuleNotFoundError",
     "evalue": "No module named 'pywt'",
     "output_type": "error",
     "traceback": [
      "\u001B[1;31m---------------------------------------------------------------------------\u001B[0m",
      "\u001B[1;31mModuleNotFoundError\u001B[0m                       Traceback (most recent call last)",
      "Cell \u001B[1;32mIn[1], line 2\u001B[0m\n\u001B[0;32m      1\u001B[0m \u001B[38;5;28;01mimport\u001B[39;00m \u001B[38;5;21;01mnumpy\u001B[39;00m \u001B[38;5;28;01mas\u001B[39;00m \u001B[38;5;21;01mnp\u001B[39;00m\n\u001B[1;32m----> 2\u001B[0m \u001B[38;5;28;01mimport\u001B[39;00m \u001B[38;5;21;01mpywt\u001B[39;00m\n\u001B[0;32m      3\u001B[0m \u001B[38;5;28;01mimport\u001B[39;00m \u001B[38;5;21;01mwarnings\u001B[39;00m\n",
      "\u001B[1;31mModuleNotFoundError\u001B[0m: No module named 'pywt'"
     ]
    }
   ],
   "source": [
    "import numpy as np\n",
    "import pywt\n",
    "import warnings"
   ],
   "metadata": {
    "collapsed": false,
    "pycharm": {
     "name": "#%%\n"
    }
   }
  },
  {
   "cell_type": "code",
   "execution_count": null,
   "outputs": [],
   "source": [
    "from matplotlib import MatplotlibDeprecationWarning\n",
    "\n",
    "warnings.filterwarnings(\"ignore\", category=MatplotlibDeprecationWarning)\n",
    "\"\"\"\n",
    "连续小波变换(CWT)是一种数学工具，其作用是将时域信号转换为时间-频率分析的表示，以便更好地理解信号的特性和特征。CWT可用于信号处理、图像处理、模式识别、数据压缩、金融分析等领域。\n",
    "\n",
    "CWT的输出是一个矩阵，其中每一行表示一个尺度(scale)的频谱，每一列表示一个时间点，可以用来展示信号在不同尺度下的频率成分随时间的变化情况。这使得CWT可以有效地检测和分离信号\n",
    "中的不同频率成分，例如短时突发的信号或周期性的信号。\n",
    "\n",
    "CWT有助于发现信号中的重要特征，例如局部极值、边缘、纹理等。这使得CWT成为许多信号处理和分析任务中的有用工具，例如语音识别、图像处理、生物医学工程等。\n",
    "\n",
    "\"\"\"\n",
    "# 生成一个简单的测试信号，包含三个正弦波\n",
    "t = np.linspace(0, 1, 500, endpoint=False)\n",
    "sig = np.sin(2*np.pi*10*t) + np.sin(2*np.pi*20*t) + np.sin(2*np.pi*30*t)\n",
    "\n",
    "# 定义连续小波变换的参数\n",
    "scales = np.arange(1, 100)\n",
    "wavelet = pywt.ContinuousWavelet('mexh')\n",
    "\n",
    "# 进行连续小波变换\n",
    "coeffs, freqs = pywt.cwt(sig, scales, wavelet)\n"
   ],
   "metadata": {
    "collapsed": false,
    "pycharm": {
     "name": "#%%\n"
    }
   }
  }
 ],
 "metadata": {
  "kernelspec": {
   "display_name": "Python 3",
   "language": "python",
   "name": "python3"
  },
  "language_info": {
   "codemirror_mode": {
    "name": "ipython",
    "version": 2
   },
   "file_extension": ".py",
   "mimetype": "text/x-python",
   "name": "python",
   "nbconvert_exporter": "python",
   "pygments_lexer": "ipython2",
   "version": "2.7.6"
  }
 },
 "nbformat": 4,
 "nbformat_minor": 0
}